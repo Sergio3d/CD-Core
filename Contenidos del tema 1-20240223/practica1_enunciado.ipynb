{
  "cells": [
    {
      "cell_type": "markdown",
      "metadata": {
        "id": "qelVyhPs0Zuq"
      },
      "source": [
        "# Práctica 1: webscraping y visualización\n",
        "\n",
        "**Objetivo de la práctica**: recopilar, estructurar, limpiar y procesar datos de Internet.\n",
        "\n",
        "*Se darán por válidas las soluciones con BeautifulSoup y regex*  \n",
        "\n",
        "**Autor(es)**\n",
        "- Sergio de la Cruz\n",
        "- Pablo Ramiro Foronda \n",
        "\n",
        "---"
      ]
    },
    {
      "cell_type": "code",
      "execution_count": 1,
      "metadata": {
        "id": "1Upn-4ZN0Y7X"
      },
      "outputs": [],
      "source": [
        "import requests\n",
        "import numpy as np\n",
        "import pandas as pd\n",
        "import matplotlib.pyplot as plt"
      ]
    },
    {
      "cell_type": "markdown",
      "metadata": {
        "id": "Y7E0XxiX1GV3"
      },
      "source": [
        "# Parte 1: recopilación y estructuración del dataset\n",
        "\n",
        "Crea un DataFrame con los datos de la url especificada en la constante `URL` y los nombres de columnas recogidos en la lista `column_names`. Utiliza el siguiente como ejemplo:\n",
        "\n",
        "\n",
        "| Pais                  | Capital          | Poblacion | Area |\n",
        "|-----------------------|------------------|-----------|------------|\n",
        "| Andorra               | Andorra la Vella| 84000     | 468.0      |\n",
        "| United Arab Emirates  | Abu Dhabi        | 4975593   | 82880.0    |\n",
        "| Afghanistan           | Kabul            | 29121286  | 647500.0   |\n",
        "| Antigua and Barbuda   | St. John's       | 86754     | 443.0      |\n",
        "| Anguilla              | The Valley       | 13254     | 102.0      |\n",
        "| Albania               | Tirana           | 2986952   | 28748.0    |\n"
      ]
    },
    {
      "cell_type": "code",
      "execution_count": 2,
      "metadata": {
        "id": "sBie0Uy81B_p"
      },
      "outputs": [],
      "source": [
        "URL = \"http://scrap.coredumped.es\"\n",
        "\n",
        "# nombres de las columnas del dataframe, así tenemos todos los mismos\n",
        "column_names = ['Pais', 'Capital', 'Poblacion', 'Area']"
      ]
    },
    {
      "cell_type": "code",
      "execution_count": 3,
      "metadata": {
        "id": "WSqgJPaU1OlA"
      },
      "outputs": [
        {
          "data": {
            "text/html": [
              "<div>\n",
              "<style scoped>\n",
              "    .dataframe tbody tr th:only-of-type {\n",
              "        vertical-align: middle;\n",
              "    }\n",
              "\n",
              "    .dataframe tbody tr th {\n",
              "        vertical-align: top;\n",
              "    }\n",
              "\n",
              "    .dataframe thead th {\n",
              "        text-align: right;\n",
              "    }\n",
              "</style>\n",
              "<table border=\"1\" class=\"dataframe\">\n",
              "  <thead>\n",
              "    <tr style=\"text-align: right;\">\n",
              "      <th></th>\n",
              "      <th>Pais</th>\n",
              "      <th>Capital</th>\n",
              "      <th>Poblacion</th>\n",
              "      <th>Area</th>\n",
              "    </tr>\n",
              "  </thead>\n",
              "  <tbody>\n",
              "    <tr>\n",
              "      <th>0</th>\n",
              "      <td>Andorra</td>\n",
              "      <td>Andorra la Vella</td>\n",
              "      <td>84000</td>\n",
              "      <td>468.0</td>\n",
              "    </tr>\n",
              "    <tr>\n",
              "      <th>1</th>\n",
              "      <td>UnitedArabEmirates</td>\n",
              "      <td>Abu Dhabi</td>\n",
              "      <td>4975593</td>\n",
              "      <td>82880.0</td>\n",
              "    </tr>\n",
              "    <tr>\n",
              "      <th>2</th>\n",
              "      <td>Afghanistan</td>\n",
              "      <td>Kabul</td>\n",
              "      <td>29121286</td>\n",
              "      <td>647500.0</td>\n",
              "    </tr>\n",
              "    <tr>\n",
              "      <th>3</th>\n",
              "      <td>AntiguaandBarbuda</td>\n",
              "      <td>St. John's</td>\n",
              "      <td>86754</td>\n",
              "      <td>443.0</td>\n",
              "    </tr>\n",
              "    <tr>\n",
              "      <th>4</th>\n",
              "      <td>Anguilla</td>\n",
              "      <td>The Valley</td>\n",
              "      <td>13254</td>\n",
              "      <td>102.0</td>\n",
              "    </tr>\n",
              "    <tr>\n",
              "      <th>...</th>\n",
              "      <td>...</td>\n",
              "      <td>...</td>\n",
              "      <td>...</td>\n",
              "      <td>...</td>\n",
              "    </tr>\n",
              "    <tr>\n",
              "      <th>245</th>\n",
              "      <td>Yemen</td>\n",
              "      <td>Sanaa</td>\n",
              "      <td>23495361</td>\n",
              "      <td>527970.0</td>\n",
              "    </tr>\n",
              "    <tr>\n",
              "      <th>246</th>\n",
              "      <td>Mayotte</td>\n",
              "      <td>Mamoudzou</td>\n",
              "      <td>159042</td>\n",
              "      <td>374.0</td>\n",
              "    </tr>\n",
              "    <tr>\n",
              "      <th>247</th>\n",
              "      <td>SouthAfrica</td>\n",
              "      <td>Pretoria</td>\n",
              "      <td>49000000</td>\n",
              "      <td>1219912.0</td>\n",
              "    </tr>\n",
              "    <tr>\n",
              "      <th>248</th>\n",
              "      <td>Zambia</td>\n",
              "      <td>Lusaka</td>\n",
              "      <td>13460305</td>\n",
              "      <td>752614.0</td>\n",
              "    </tr>\n",
              "    <tr>\n",
              "      <th>249</th>\n",
              "      <td>Zimbabwe</td>\n",
              "      <td>Harare</td>\n",
              "      <td>11651858</td>\n",
              "      <td>390580.0</td>\n",
              "    </tr>\n",
              "  </tbody>\n",
              "</table>\n",
              "<p>250 rows × 4 columns</p>\n",
              "</div>"
            ],
            "text/plain": [
              "                   Pais           Capital Poblacion       Area\n",
              "0               Andorra  Andorra la Vella     84000      468.0\n",
              "1    UnitedArabEmirates         Abu Dhabi   4975593    82880.0\n",
              "2           Afghanistan             Kabul  29121286   647500.0\n",
              "3     AntiguaandBarbuda        St. John's     86754      443.0\n",
              "4              Anguilla        The Valley     13254      102.0\n",
              "..                  ...               ...       ...        ...\n",
              "245               Yemen             Sanaa  23495361   527970.0\n",
              "246             Mayotte         Mamoudzou    159042      374.0\n",
              "247         SouthAfrica          Pretoria  49000000  1219912.0\n",
              "248              Zambia            Lusaka  13460305   752614.0\n",
              "249            Zimbabwe            Harare  11651858   390580.0\n",
              "\n",
              "[250 rows x 4 columns]"
            ]
          },
          "execution_count": 3,
          "metadata": {},
          "output_type": "execute_result"
        }
      ],
      "source": [
        "from bs4 import BeautifulSoup\n",
        "\n",
        "soup = BeautifulSoup(requests.get(URL).text)\n",
        "data = []\n",
        "for paises in soup.findAll('div',class_='col-md-4 country'):\n",
        "    row = []\n",
        "    row.append(paises.find('h3',class_='country-name').text.replace(' ','').replace('\\n',''))\n",
        "    row.append(paises.find('span',class_='country-capital').text)\n",
        "    row.append(paises.find('span',class_='country-population').text)\n",
        "    row.append(paises.find('span',class_='country-area').text)\n",
        "    data.append(row)\n",
        "\n",
        "# nombresP = paises.find('h3',class_='country-name')\n",
        "\n",
        "df_paises = pd.DataFrame(data, columns=column_names)\n",
        "df_paises"
      ]
    },
    {
      "cell_type": "markdown",
      "metadata": {
        "id": "b-zCzo5M1dEq"
      },
      "source": [
        "# Parte 2: limpieza del dataset\n"
      ]
    },
    {
      "cell_type": "markdown",
      "metadata": {
        "id": "IRuq984c2qJQ"
      },
      "source": [
        "2a) Elimina los valores nulos, si los hubiera. Si los hubiera, ¿destruirías la fila entera o sustituirías el valor nulo por 0?"
      ]
    },
    {
      "cell_type": "code",
      "execution_count": 4,
      "metadata": {
        "id": "D9zP6GhE2uFC"
      },
      "outputs": [],
      "source": [
        "df_paises = df_paises.dropna()\n",
        "\n"
      ]
    },
    {
      "cell_type": "markdown",
      "metadata": {
        "id": "mhwWPgtA22od"
      },
      "source": [
        "No lo sustituiria por 0, puede que estar vacio signifique que no hay datos o sea indeterminado y poner 0 podria dar paso a confusiones o resultados incorrectos (especialmente en Poblacion y Area)\n",
        "Depende de lo que se quiera hacer con los datos puede que esa fila no seria util y eliminaria la fila entera"
      ]
    },
    {
      "cell_type": "markdown",
      "metadata": {
        "id": "cxEdbynu15lq"
      },
      "source": [
        "2b) Asegura que las columnas `País` y `Capital` son de tipo `str`."
      ]
    },
    {
      "cell_type": "code",
      "execution_count": 5,
      "metadata": {
        "id": "kqP5rQxB1eQv"
      },
      "outputs": [
        {
          "name": "stdout",
          "output_type": "stream",
          "text": [
            "<class 'str'>\n",
            "<class 'str'>\n"
          ]
        }
      ],
      "source": [
        "print(type(df_paises['Pais'][0]))\n",
        "print(type(df_paises['Capital'][0]))"
      ]
    },
    {
      "cell_type": "markdown",
      "metadata": {
        "id": "MksAHqBN1_da"
      },
      "source": [
        "2c) Aplica el mismo procedimiento para las columnas numéricas `Poblacion` y `Area`"
      ]
    },
    {
      "cell_type": "code",
      "execution_count": 6,
      "metadata": {
        "id": "uc-955p81_u-"
      },
      "outputs": [
        {
          "name": "stdout",
          "output_type": "stream",
          "text": [
            "<class 'str'>\n",
            "<class 'str'>\n",
            "<class 'numpy.float64'>\n",
            "<class 'numpy.float64'>\n"
          ]
        }
      ],
      "source": [
        "\n",
        "print(type(df_paises['Poblacion'][0]))\n",
        "print(type(df_paises['Area'][0]))\n",
        "\n",
        "df_paises['Poblacion'] = df_paises['Poblacion'].astype(float)\n",
        "df_paises['Area'] = df_paises['Area'].astype(float)\n",
        "\n",
        "\n",
        "print(type(df_paises['Poblacion'][0]))\n",
        "print(type(df_paises['Area'][0]))"
      ]
    },
    {
      "cell_type": "markdown",
      "metadata": {
        "id": "se0mi7bF1ev_"
      },
      "source": [
        "# Parte 3: procesamiento del dataset\n"
      ]
    },
    {
      "cell_type": "markdown",
      "metadata": {
        "id": "z8sb_Y8H2Y2d"
      },
      "source": [
        "3a) Añade la siguiente columna derivada al dataset:\n",
        "- Densidad de población (Habitantes/km^2)\n"
      ]
    },
    {
      "cell_type": "code",
      "execution_count": 7,
      "metadata": {
        "id": "l1WI56jD10x8"
      },
      "outputs": [
        {
          "data": {
            "text/html": [
              "<div>\n",
              "<style scoped>\n",
              "    .dataframe tbody tr th:only-of-type {\n",
              "        vertical-align: middle;\n",
              "    }\n",
              "\n",
              "    .dataframe tbody tr th {\n",
              "        vertical-align: top;\n",
              "    }\n",
              "\n",
              "    .dataframe thead th {\n",
              "        text-align: right;\n",
              "    }\n",
              "</style>\n",
              "<table border=\"1\" class=\"dataframe\">\n",
              "  <thead>\n",
              "    <tr style=\"text-align: right;\">\n",
              "      <th></th>\n",
              "      <th>Pais</th>\n",
              "      <th>Capital</th>\n",
              "      <th>Poblacion</th>\n",
              "      <th>Area</th>\n",
              "      <th>Densidad_Poblacion</th>\n",
              "    </tr>\n",
              "  </thead>\n",
              "  <tbody>\n",
              "    <tr>\n",
              "      <th>0</th>\n",
              "      <td>Andorra</td>\n",
              "      <td>Andorra la Vella</td>\n",
              "      <td>84000.0</td>\n",
              "      <td>468.0</td>\n",
              "      <td>179.487179</td>\n",
              "    </tr>\n",
              "    <tr>\n",
              "      <th>1</th>\n",
              "      <td>UnitedArabEmirates</td>\n",
              "      <td>Abu Dhabi</td>\n",
              "      <td>4975593.0</td>\n",
              "      <td>82880.0</td>\n",
              "      <td>60.033699</td>\n",
              "    </tr>\n",
              "    <tr>\n",
              "      <th>2</th>\n",
              "      <td>Afghanistan</td>\n",
              "      <td>Kabul</td>\n",
              "      <td>29121286.0</td>\n",
              "      <td>647500.0</td>\n",
              "      <td>44.974959</td>\n",
              "    </tr>\n",
              "    <tr>\n",
              "      <th>3</th>\n",
              "      <td>AntiguaandBarbuda</td>\n",
              "      <td>St. John's</td>\n",
              "      <td>86754.0</td>\n",
              "      <td>443.0</td>\n",
              "      <td>195.832957</td>\n",
              "    </tr>\n",
              "    <tr>\n",
              "      <th>4</th>\n",
              "      <td>Anguilla</td>\n",
              "      <td>The Valley</td>\n",
              "      <td>13254.0</td>\n",
              "      <td>102.0</td>\n",
              "      <td>129.941176</td>\n",
              "    </tr>\n",
              "    <tr>\n",
              "      <th>...</th>\n",
              "      <td>...</td>\n",
              "      <td>...</td>\n",
              "      <td>...</td>\n",
              "      <td>...</td>\n",
              "      <td>...</td>\n",
              "    </tr>\n",
              "    <tr>\n",
              "      <th>245</th>\n",
              "      <td>Yemen</td>\n",
              "      <td>Sanaa</td>\n",
              "      <td>23495361.0</td>\n",
              "      <td>527970.0</td>\n",
              "      <td>44.501318</td>\n",
              "    </tr>\n",
              "    <tr>\n",
              "      <th>246</th>\n",
              "      <td>Mayotte</td>\n",
              "      <td>Mamoudzou</td>\n",
              "      <td>159042.0</td>\n",
              "      <td>374.0</td>\n",
              "      <td>425.245989</td>\n",
              "    </tr>\n",
              "    <tr>\n",
              "      <th>247</th>\n",
              "      <td>SouthAfrica</td>\n",
              "      <td>Pretoria</td>\n",
              "      <td>49000000.0</td>\n",
              "      <td>1219912.0</td>\n",
              "      <td>40.166832</td>\n",
              "    </tr>\n",
              "    <tr>\n",
              "      <th>248</th>\n",
              "      <td>Zambia</td>\n",
              "      <td>Lusaka</td>\n",
              "      <td>13460305.0</td>\n",
              "      <td>752614.0</td>\n",
              "      <td>17.884739</td>\n",
              "    </tr>\n",
              "    <tr>\n",
              "      <th>249</th>\n",
              "      <td>Zimbabwe</td>\n",
              "      <td>Harare</td>\n",
              "      <td>11651858.0</td>\n",
              "      <td>390580.0</td>\n",
              "      <td>29.832193</td>\n",
              "    </tr>\n",
              "  </tbody>\n",
              "</table>\n",
              "<p>250 rows × 5 columns</p>\n",
              "</div>"
            ],
            "text/plain": [
              "                   Pais           Capital   Poblacion       Area  \\\n",
              "0               Andorra  Andorra la Vella     84000.0      468.0   \n",
              "1    UnitedArabEmirates         Abu Dhabi   4975593.0    82880.0   \n",
              "2           Afghanistan             Kabul  29121286.0   647500.0   \n",
              "3     AntiguaandBarbuda        St. John's     86754.0      443.0   \n",
              "4              Anguilla        The Valley     13254.0      102.0   \n",
              "..                  ...               ...         ...        ...   \n",
              "245               Yemen             Sanaa  23495361.0   527970.0   \n",
              "246             Mayotte         Mamoudzou    159042.0      374.0   \n",
              "247         SouthAfrica          Pretoria  49000000.0  1219912.0   \n",
              "248              Zambia            Lusaka  13460305.0   752614.0   \n",
              "249            Zimbabwe            Harare  11651858.0   390580.0   \n",
              "\n",
              "     Densidad_Poblacion  \n",
              "0            179.487179  \n",
              "1             60.033699  \n",
              "2             44.974959  \n",
              "3            195.832957  \n",
              "4            129.941176  \n",
              "..                  ...  \n",
              "245           44.501318  \n",
              "246          425.245989  \n",
              "247           40.166832  \n",
              "248           17.884739  \n",
              "249           29.832193  \n",
              "\n",
              "[250 rows x 5 columns]"
            ]
          },
          "execution_count": 7,
          "metadata": {},
          "output_type": "execute_result"
        }
      ],
      "source": [
        "df_paises['Densidad_Poblacion'] = df_paises.Poblacion/df_paises.Area\n",
        "df_paises"
      ]
    },
    {
      "cell_type": "markdown",
      "metadata": {
        "id": "5vSITMWV2Zb6"
      },
      "source": [
        "3b) Representa la distribución de la variable `Poblacion`."
      ]
    },
    {
      "cell_type": "code",
      "execution_count": 8,
      "metadata": {
        "id": "0wHtQv0r2eRY"
      },
      "outputs": [
        {
          "data": {
            "image/png": "[encoded data removed]",
            "text/plain": [
              "<Figure size 1200x400 with 1 Axes>"
            ]
          },
          "metadata": {},
          "output_type": "display_data"
        }
      ],
      "source": [
        "plt.figure(figsize=(12, 4))\n",
        "plt.hist(df_paises.Poblacion, bins=50)\n",
        "plt.xlabel('Valor')\n",
        "plt.ylabel('Frecuencia')\n",
        "plt.title('Distribución de Poblacion')\n",
        "plt.grid(True)\n",
        "plt.show()"
      ]
    },
    {
      "cell_type": "markdown",
      "metadata": {
        "id": "YBp_Qz_I2erN"
      },
      "source": [
        "3c) ¿Existe alguna correlación entre las variables `Poblacion` y `Area`? Justifica tu respuesta."
      ]
    },
    {
      "cell_type": "code",
      "execution_count": 9,
      "metadata": {
        "id": "Z0S4akDG2hnu"
      },
      "outputs": [
        {
          "data": {
            "image/png": "[encoded data removed]",
            "text/plain": [
              "<Figure size 1200x400 with 1 Axes>"
            ]
          },
          "metadata": {},
          "output_type": "display_data"
        },
        {
          "name": "stdout",
          "output_type": "stream",
          "text": [
            "Coeficiente de correlacion entre paises y area:  0.412625235475591\n"
          ]
        }
      ],
      "source": [
        "plt.figure(figsize=(12, 4))\n",
        "plt.scatter(df_paises.Poblacion,df_paises.Area)\n",
        "plt.xlabel('Poblacion')\n",
        "plt.ylabel('Area')\n",
        "plt.title('Poblacion/Area')\n",
        "plt.grid(True)\n",
        "plt.show()\n",
        "\n",
        "coef_corr = df_paises.Poblacion.corr(df_paises.Area)\n",
        "print(\"Coeficiente de correlacion entre paises y area: \", coef_corr)"
      ]
    },
    {
      "cell_type": "markdown",
      "metadata": {},
      "source": [
        "Como se puede ver en el grafico superior no se percibe una correlación explicita entre la poblacion y el area de un pais.\n",
        "Se puede ver que existen tanto paises con poca poblacion en areas grandes y pequeñas y tambien existen paises con poca extension que tienen mucha y poca poblacion\n",
        "\n",
        "Solo se puede ver que son más comunes los paises pequeños y/o con menor población que paises grandes y/o con gran poblacion \n",
        "\n",
        "Ademas, hallando el coeficiente de correlacion vemos que es 0,4 "
      ]
    },
    {
      "cell_type": "code",
      "execution_count": null,
      "metadata": {},
      "outputs": [],
      "source": []
    }
  ],
  "metadata": {
    "colab": {
      "provenance": []
    },
    "kernelspec": {
      "display_name": "Python 3.10.5 64-bit",
      "language": "python",
      "name": "python3"
    },
    "language_info": {
      "codemirror_mode": {
        "name": "ipython",
        "version": 3
      },
      "file_extension": ".py",
      "mimetype": "text/x-python",
      "name": "python",
      "nbconvert_exporter": "python",
      "pygments_lexer": "ipython3",
      "version": "3.10.5"
    },
    "vscode": {
      "interpreter": {
        "hash": "369f2c481f4da34e4445cda3fffd2e751bd1c4d706f27375911949ba6bb62e1c"
      }
    }
  },
  "nbformat": 4,
  "nbformat_minor": 0
}

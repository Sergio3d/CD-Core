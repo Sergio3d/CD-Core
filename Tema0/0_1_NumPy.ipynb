{
  "cells": [
    {
      "cell_type": "markdown",
      "metadata": {
        "id": "HI-lS30nyMpd"
      },
      "source": [
        "# NumPy: Numerical Python\n",
        "\n"
      ]
    },
    {
      "cell_type": "code",
      "execution_count": 12,
      "metadata": {},
      "outputs": [],
      "source": [
        "import numpy as np\n",
        "import random"
      ]
    },
    {
      "cell_type": "markdown",
      "metadata": {
        "id": "u3DzVRYB2Po0"
      },
      "source": [
        "## El *ndarray* de NumPy\n",
        "\n",
        "Supone el núcleo del paquete NumPy, encapsula **matrices de n dimensiones de tipos de datos homogéneos**.\n",
        "\n",
        "- Los tipos deben ser homogéneos para que todos los elementos ocupen bloques del mismo tamaño en memoria\n",
        "- Las matrices de NumPy facilitan las operaciones matemáticas en cantidades grandes de datos"
      ]
    },
    {
      "cell_type": "code",
      "execution_count": 18,
      "metadata": {
        "colab": {
          "base_uri": "https://localhost:8080/"
        },
        "id": "1SfIHQTK2AT_",
        "outputId": "644e1845-1ffc-47f3-b5b7-effb1e5e3d95"
      },
      "outputs": [
        {
          "name": "stdout",
          "output_type": "stream",
          "text": [
            "[[8 5 7]\n",
            " [1 1 9]\n",
            " [6 7 5]]\n"
          ]
        }
      ],
      "source": [
        "shape = (3, 3)\n",
        "ndarray_3d = np.random.randint(0, 10, size=shape)\n",
        "\n",
        "print(ndarray_3d)"
      ]
    },
    {
      "cell_type": "markdown",
      "metadata": {
        "id": "m98S5_ua5Mkt"
      },
      "source": [
        "### Atributos importantes del numpy array:\n"
      ]
    },
    {
      "cell_type": "markdown",
      "metadata": {
        "id": "TfdYIKqE445i"
      },
      "source": [
        "\n",
        "\n",
        "| Atributos       | Descripción                                             |\n",
        "|-----------------|---------------------------------------------------------|\n",
        "| ndarray.shape    | Tupla con las dimensiones de la matriz                  |\n",
        "| ndarray.ndim     | Número de dimensiones de la matriz                      |\n",
        "| ndarray.dtype    | Tipo de los elementos en la matriz |\n",
        "| ndarray.size     | Número de elementos en la matriz                        |\n",
        "| ndarray.itemsize | Longitud de un elemento de matriz en bytes               |\n",
        "| ndarray.nbytes   | Total de bytes consumidos por los elementos de la matriz |\n"
      ]
    },
    {
      "cell_type": "markdown",
      "metadata": {
        "id": "0yNHBTGC7g0j"
      },
      "source": [
        "### Creación de matrices 1D"
      ]
    },
    {
      "cell_type": "code",
      "execution_count": 19,
      "metadata": {
        "colab": {
          "base_uri": "https://localhost:8080/"
        },
        "id": "vZp3V8GO7gI8",
        "outputId": "539eb214-bf58-427e-e3f4-53a216d3b3e8"
      },
      "outputs": [
        {
          "data": {
            "text/plain": [
              "array([ 0,  1,  2,  3,  4,  5,  6,  7,  8,  9, 10, 11, 12, 13, 14])"
            ]
          },
          "execution_count": 19,
          "metadata": {},
          "output_type": "execute_result"
        }
      ],
      "source": [
        "np.arange(15)"
      ]
    },
    {
      "cell_type": "code",
      "execution_count": 22,
      "metadata": {
        "colab": {
          "base_uri": "https://localhost:8080/"
        },
        "id": "j760Jqyh745T",
        "outputId": "f66ea9d5-954d-452e-d499-cdf75c8a5224"
      },
      "outputs": [
        {
          "data": {
            "text/plain": [
              "array([0, 2, 4, 6, 8])"
            ]
          },
          "execution_count": 22,
          "metadata": {},
          "output_type": "execute_result"
        }
      ],
      "source": [
        "# salto 2\n",
        "np.arange(0, 10, 2, dtype=int)"
      ]
    },
    {
      "cell_type": "code",
      "execution_count": 23,
      "metadata": {
        "colab": {
          "base_uri": "https://localhost:8080/"
        },
        "id": "2YxxJ_zT8AIR",
        "outputId": "33a9a51e-78d1-4879-e459-f10757023bbb"
      },
      "outputs": [
        {
          "data": {
            "text/plain": [
              "array([10,  9,  8,  7,  6,  5,  4,  3,  2,  1])"
            ]
          },
          "execution_count": 23,
          "metadata": {},
          "output_type": "execute_result"
        }
      ],
      "source": [
        "# decreciente\n",
        "np.arange(10, 0, -1)"
      ]
    },
    {
      "cell_type": "code",
      "execution_count": 25,
      "metadata": {
        "colab": {
          "base_uri": "https://localhost:8080/"
        },
        "id": "o2abyiSr8O19",
        "outputId": "5d8ae0e5-b278-4b9f-f9ae-4e1662ff75d8"
      },
      "outputs": [
        {
          "data": {
            "text/plain": [
              "array([2. , 2.1, 2.2, 2.3, 2.4, 2.5, 2.6, 2.7, 2.8, 2.9])"
            ]
          },
          "execution_count": 25,
          "metadata": {},
          "output_type": "execute_result"
        }
      ],
      "source": [
        "# empieza en 2, hasta 3 (sin incluir), de 0,1 en 0.1\n",
        "np.arange(2, 3, 0.1)"
      ]
    },
    {
      "cell_type": "markdown",
      "metadata": {
        "id": "rHFxGBD08fd5"
      },
      "source": [
        "### Creación de matrices 2D"
      ]
    },
    {
      "cell_type": "code",
      "execution_count": 26,
      "metadata": {
        "colab": {
          "base_uri": "https://localhost:8080/"
        },
        "id": "b-34wkLW8hWG",
        "outputId": "4ee1e37d-9d10-434c-c889-e956cb7dd977"
      },
      "outputs": [
        {
          "data": {
            "text/plain": [
              "array([[1., 0., 0.],\n",
              "       [0., 1., 0.],\n",
              "       [0., 0., 1.]])"
            ]
          },
          "execution_count": 26,
          "metadata": {},
          "output_type": "execute_result"
        }
      ],
      "source": [
        "# matriz identidad\n",
        "np.eye(3)"
      ]
    },
    {
      "cell_type": "code",
      "execution_count": 28,
      "metadata": {
        "colab": {
          "base_uri": "https://localhost:8080/"
        },
        "id": "2lreBHCM8xeV",
        "outputId": "59cdc9a8-3043-4dcb-879f-bb6a7735811c"
      },
      "outputs": [
        {
          "data": {
            "text/plain": [
              "array([[1, 0, 0, 0],\n",
              "       [0, 2, 0, 0],\n",
              "       [0, 0, 3, 0],\n",
              "       [0, 0, 0, 4]])"
            ]
          },
          "execution_count": 28,
          "metadata": {},
          "output_type": "execute_result"
        }
      ],
      "source": [
        "# diagonal\n",
        "np.diag([1, 2, 3, 4])"
      ]
    },
    {
      "cell_type": "code",
      "execution_count": 32,
      "metadata": {
        "colab": {
          "base_uri": "https://localhost:8080/"
        },
        "id": "3K4N2zVX85-F",
        "outputId": "8a34fb3e-091b-4c50-b241-fdb7b3d176c6"
      },
      "outputs": [
        {
          "name": "stdout",
          "output_type": "stream",
          "text": [
            "[[1 2]\n",
            " [3 4]]\n"
          ]
        }
      ],
      "source": [
        "# creación de una array \"a mano\"\n",
        "matrix = np.array([[1, 2],\n",
        "                   [3, 4]])\n",
        "\n",
        "print(matrix)"
      ]
    },
    {
      "cell_type": "code",
      "execution_count": 33,
      "metadata": {
        "colab": {
          "base_uri": "https://localhost:8080/"
        },
        "id": "Fffrg8N29Kom",
        "outputId": "b1a8c837-9188-450b-fd05-b82995c7ea36"
      },
      "outputs": [
        {
          "data": {
            "text/plain": [
              "array([[0., 0., 0., 0., 0., 0.],\n",
              "       [0., 0., 0., 0., 0., 0.],\n",
              "       [0., 0., 0., 0., 0., 0.]])"
            ]
          },
          "execution_count": 33,
          "metadata": {},
          "output_type": "execute_result"
        }
      ],
      "source": [
        "# matriz 3x6 llena de ceros\n",
        "np.zeros([3, 6])"
      ]
    },
    {
      "cell_type": "code",
      "execution_count": 34,
      "metadata": {
        "colab": {
          "base_uri": "https://localhost:8080/"
        },
        "id": "bA0l5rT39QQf",
        "outputId": "7c146b22-d6ad-4370-ffae-4b05b8587bb8"
      },
      "outputs": [
        {
          "data": {
            "text/plain": [
              "array([[1., 1., 1., 1., 1., 1.],\n",
              "       [1., 1., 1., 1., 1., 1.],\n",
              "       [1., 1., 1., 1., 1., 1.]])"
            ]
          },
          "execution_count": 34,
          "metadata": {},
          "output_type": "execute_result"
        }
      ],
      "source": [
        "# lo mismo pero llena de unos\n",
        "np.ones([3, 6])"
      ]
    },
    {
      "cell_type": "code",
      "execution_count": 36,
      "metadata": {
        "colab": {
          "base_uri": "https://localhost:8080/"
        },
        "id": "S35N8Fca90f_",
        "outputId": "77da87fd-526e-4bd5-fb29-4606deba8b0c"
      },
      "outputs": [
        {
          "name": "stdout",
          "output_type": "stream",
          "text": [
            "[[8 4 3 7]\n",
            " [7 4 2 2]\n",
            " [5 2 0 1]]\n"
          ]
        }
      ],
      "source": [
        "# números aleatorios, dimension N*M\n",
        "\n",
        "N = 3\n",
        "M = 4\n",
        "\n",
        "matrix = np.random.randint(0, 10, size=(N, M))\n",
        "\n",
        "print(matrix)"
      ]
    },
    {
      "cell_type": "markdown",
      "metadata": {
        "id": "rai1zTut2U7Q"
      },
      "source": [
        "## Operaciones con NumPy arrays\n",
        "\n",
        "- Operaciones aritméticas elemento a elemento (suma, resta, multiplicación, exponente, división...)\n",
        "- Operaciones lógicas elemento a elemento\n",
        "- Concatenación\n",
        "- Producto de matrices (dot product)\n",
        "- Matriz inversa\n",
        "- Matriz traspuesta\n",
        "- generación de elementos pseudoaleatorios"
      ]
    },
    {
      "cell_type": "code",
      "execution_count": 49,
      "metadata": {
        "colab": {
          "base_uri": "https://localhost:8080/"
        },
        "id": "O9dEgFbbAk7S",
        "outputId": "fa351393-6c0e-483a-d265-ca258112d608"
      },
      "outputs": [
        {
          "data": {
            "text/plain": [
              "array([[ 6, 10],\n",
              "       [ 8, 12]])"
            ]
          },
          "execution_count": 49,
          "metadata": {},
          "output_type": "execute_result"
        }
      ],
      "source": [
        "# suma\n",
        "arr1 = np.array([[1, 3], [2, 4]])\n",
        "arr2 = np.array([[5, 7], [6, 8]])\n",
        "arr1 + arr2"
      ]
    },
    {
      "cell_type": "code",
      "execution_count": 50,
      "metadata": {
        "colab": {
          "base_uri": "https://localhost:8080/"
        },
        "id": "z8QLQKcnAvfx",
        "outputId": "8b7ea765-e42a-4e63-9693-5a206cbdb1ce"
      },
      "outputs": [
        {
          "data": {
            "text/plain": [
              "array([[4, 4],\n",
              "       [4, 4]])"
            ]
          },
          "execution_count": 50,
          "metadata": {},
          "output_type": "execute_result"
        }
      ],
      "source": [
        "# resta\n",
        "arr2 - arr1"
      ]
    },
    {
      "cell_type": "code",
      "execution_count": 51,
      "metadata": {
        "colab": {
          "base_uri": "https://localhost:8080/"
        },
        "id": "Lu-MZcdzA0v8",
        "outputId": "170bb1b6-5b8a-44fb-fc99-50cb11c84ed3"
      },
      "outputs": [
        {
          "data": {
            "text/plain": [
              "array([[ 7., 27., 55.],\n",
              "       [16., 40., 72.]])"
            ]
          },
          "execution_count": 51,
          "metadata": {},
          "output_type": "execute_result"
        }
      ],
      "source": [
        "# multiplicación\n",
        "arr1 = np.array([[1., 3., 5.], [2., 4., 6]])\n",
        "arr2 = np.array([[7., 9., 11.], [8., 10., 12.]])\n",
        "arr1 * arr2"
      ]
    },
    {
      "cell_type": "code",
      "execution_count": 52,
      "metadata": {
        "colab": {
          "base_uri": "https://localhost:8080/"
        },
        "id": "SIMnDECUBTS7",
        "outputId": "6eaac498-e9e7-4a74-92a1-ba5257e1e814"
      },
      "outputs": [
        {
          "data": {
            "text/plain": [
              "array([[7. , 3. , 2.2],\n",
              "       [4. , 2.5, 2. ]])"
            ]
          },
          "execution_count": 52,
          "metadata": {},
          "output_type": "execute_result"
        }
      ],
      "source": [
        "# división\n",
        "arr2 / arr1"
      ]
    },
    {
      "cell_type": "code",
      "execution_count": 54,
      "metadata": {
        "colab": {
          "base_uri": "https://localhost:8080/"
        },
        "id": "2xygipDnBelk",
        "outputId": "04e69f4e-3053-49cc-e4d9-d7f46291c2b9"
      },
      "outputs": [
        {
          "data": {
            "text/plain": [
              "array([[1.        , 1.73205081, 2.23606798],\n",
              "       [1.41421356, 2.        , 2.44948974]])"
            ]
          },
          "execution_count": 54,
          "metadata": {},
          "output_type": "execute_result"
        }
      ],
      "source": [
        "# exponente (realmente raíz cuadrada)\n",
        "arr1 ** 0.5"
      ]
    },
    {
      "cell_type": "code",
      "execution_count": 72,
      "metadata": {
        "colab": {
          "base_uri": "https://localhost:8080/"
        },
        "id": "qnv23vpFBvHD",
        "outputId": "0d7a3f57-ff40-4826-a724-c9f663d60242"
      },
      "outputs": [
        {
          "data": {
            "text/plain": [
              "array([[ True,  True],\n",
              "       [ True,  True]])"
            ]
          },
          "execution_count": 72,
          "metadata": {},
          "output_type": "execute_result"
        }
      ],
      "source": [
        "# operaciones lógicas\n",
        "arr2 > arr1"
      ]
    },
    {
      "cell_type": "code",
      "execution_count": 63,
      "metadata": {
        "colab": {
          "base_uri": "https://localhost:8080/"
        },
        "id": "9K7Ca-B1CH_i",
        "outputId": "1004a013-4a8e-42fb-cd9a-efb7103ee257"
      },
      "outputs": [
        {
          "name": "stdout",
          "output_type": "stream",
          "text": [
            "[[19 22]\n",
            " [43 50]]\n"
          ]
        }
      ],
      "source": [
        "# producto de matrices\n",
        "arr1 = np.array([[1, 2],\n",
        "                 [3, 4]])\n",
        "\n",
        "arr2 = np.array([[5, 6],\n",
        "                 [7, 8]])\n",
        "\n",
        "dot = np.dot(arr1, arr2)\n",
        "\n",
        "print(dot)"
      ]
    },
    {
      "cell_type": "code",
      "execution_count": 64,
      "metadata": {
        "colab": {
          "base_uri": "https://localhost:8080/"
        },
        "id": "FZgMvIp2C1yY",
        "outputId": "b4ba6bf5-2c60-4902-fb1a-76322f1d0216"
      },
      "outputs": [
        {
          "data": {
            "text/plain": [
              "array([[-2. ,  1. ],\n",
              "       [ 1.5, -0.5]])"
            ]
          },
          "execution_count": 64,
          "metadata": {},
          "output_type": "execute_result"
        }
      ],
      "source": [
        "# inversa\n",
        "inv = np.linalg.inv(arr1)\n",
        "inv"
      ]
    },
    {
      "cell_type": "code",
      "execution_count": 67,
      "metadata": {
        "colab": {
          "base_uri": "https://localhost:8080/"
        },
        "id": "gyml_Tr4DDsf",
        "outputId": "662721a2-01a8-4439-e7cb-cfbb375c71e5"
      },
      "outputs": [
        {
          "data": {
            "text/plain": [
              "array([[1., 0.],\n",
              "       [0., 1.]])"
            ]
          },
          "execution_count": 67,
          "metadata": {},
          "output_type": "execute_result"
        }
      ],
      "source": [
        "# comprobación\n",
        "np.round(np.dot(arr1, inv), 2)"
      ]
    },
    {
      "cell_type": "code",
      "execution_count": 69,
      "metadata": {
        "id": "GxPml3OfDm_X"
      },
      "outputs": [],
      "source": [
        "# trasposición\n",
        "mat = np.array([[1, 2, 3],\n",
        "                [4, 5, 6]])\n",
        "\n",
        "# método 1: atributo T\n",
        "transpuesta_t = mat.T\n",
        "\n",
        "# método 2: función np.transpose()\n",
        "transpuesta_transpose = np.transpose(mat)"
      ]
    },
    {
      "cell_type": "code",
      "execution_count": 71,
      "metadata": {
        "colab": {
          "base_uri": "https://localhost:8080/"
        },
        "id": "VQbUtY0gDTI0",
        "outputId": "51b1e079-1e74-4476-e5e1-373a15819bc8"
      },
      "outputs": [
        {
          "data": {
            "text/plain": [
              "array([[-0.37047967,  0.23287305,  0.22638249, -1.06615779],\n",
              "       [ 0.28687391,  1.19864961,  0.37074287, -0.56669186],\n",
              "       [-1.95719923,  1.33640966,  0.11049868,  0.42556371],\n",
              "       [ 1.01106356,  2.37903664,  0.52509279,  0.06387236]])"
            ]
          },
          "execution_count": 71,
          "metadata": {},
          "output_type": "execute_result"
        }
      ],
      "source": [
        "# generación de matrices pseudoaleatorias\n",
        "samples = np.random.normal(size=(4, 4))       # distribución normal\n",
        "samples"
      ]
    },
    {
      "cell_type": "markdown",
      "metadata": {
        "id": "DXnd8Vtg_q6J"
      },
      "source": [
        "### Concatenación\n",
        "- axis=1: horizontalmente\n",
        "- axis=0: verticalmente"
      ]
    },
    {
      "cell_type": "code",
      "execution_count": 42,
      "metadata": {
        "colab": {
          "base_uri": "https://localhost:8080/"
        },
        "id": "w0_xZG9u_wWI",
        "outputId": "4b56a921-ad4b-4d42-ef75-d0711a78473b"
      },
      "outputs": [
        {
          "data": {
            "text/plain": [
              "array([[ 1,  2,  3,  7,  8,  9],\n",
              "       [ 4,  5,  6, 10, 11, 12]])"
            ]
          },
          "execution_count": 42,
          "metadata": {},
          "output_type": "execute_result"
        }
      ],
      "source": [
        "# axis=1\n",
        "# equivalente a np.hstack\n",
        "arr1 = np.array([[1, 2, 3], [4, 5, 6]])\n",
        "arr2 = np.array([[7, 8, 9], [10, 11, 12]])\n",
        "\n",
        "np.concatenate([arr1, arr2], axis=1)"
      ]
    },
    {
      "cell_type": "code",
      "execution_count": 43,
      "metadata": {
        "colab": {
          "base_uri": "https://localhost:8080/"
        },
        "id": "9lnYddxV_l-o",
        "outputId": "7e4f15a0-d0d9-402c-9615-3155c9acf79f"
      },
      "outputs": [
        {
          "data": {
            "text/plain": [
              "array([[ 1,  2,  3],\n",
              "       [ 4,  5,  6],\n",
              "       [ 7,  8,  9],\n",
              "       [10, 11, 12]])"
            ]
          },
          "execution_count": 43,
          "metadata": {},
          "output_type": "execute_result"
        }
      ],
      "source": [
        "# axis=0\n",
        "# equivalente a np.vstack\n",
        "np.concatenate([arr1, arr2], axis=0)"
      ]
    },
    {
      "cell_type": "markdown",
      "metadata": {
        "id": "oqjc0NgR13Yb"
      },
      "source": [
        "# Ventajas de Numpy\n",
        "\n",
        "NumPy es ampliamente utilizada en el ámbito de la computación científica en Python.\n",
        "\n",
        "- NumPy almacena internamente los datos en bloques de memoria contiguos\n",
        "- Está implementada en C\n",
        "- Las matrices de NumPy, por tanto, emplean menor cantidad de memoria\n",
        "\n",
        "Por este motivo, es óptima para operaciones con grandes volúmenes de datos.\n",
        "Vamos a demostrar por qué supone una ventaja usar sus funciones en lugar de las de Python:"
      ]
    },
    {
      "cell_type": "markdown",
      "metadata": {
        "id": "hmbpryXuzqoI"
      },
      "source": [
        "## 1. Velocidad de cálculo y sencillez de implementación"
      ]
    },
    {
      "cell_type": "markdown",
      "metadata": {
        "id": "DWN7NoVD04_H"
      },
      "source": [
        "### Producto de matrices O(n²) con Python vanilla\n",
        "\n",
        "\n",
        "Para facilitar las cosas, definiremos una función que multiplica matrices en python:"
      ]
    },
    {
      "cell_type": "code",
      "execution_count": 6,
      "metadata": {
        "id": "WdwFVsK4yI-S"
      },
      "outputs": [],
      "source": [
        "def matrix_multiply_python(A, B):\n",
        "    result = []\n",
        "    for i in range(len(A)):\n",
        "        row = []\n",
        "        for j in range(len(B[0])):\n",
        "            element = 0\n",
        "            for k in range(len(B)):\n",
        "                element += A[i][k] * B[k][j]\n",
        "            row.append(element)\n",
        "        result.append(row)\n",
        "    return result"
      ]
    },
    {
      "cell_type": "code",
      "execution_count": 7,
      "metadata": {
        "id": "JE0oI7IC0bxe"
      },
      "outputs": [],
      "source": [
        "def generate_random_matrix(rows, cols):\n",
        "    return [[random.random() for _ in range(cols)] for _ in range(rows)]\n",
        "\n",
        "matrix_a = generate_random_matrix(100, 100)  # matriz 100x100\n",
        "matrix_b = generate_random_matrix(100, 100)  # matriz 100x100"
      ]
    },
    {
      "cell_type": "markdown",
      "metadata": {
        "id": "L7jppRsGEmJQ"
      },
      "source": [
        "Producto de matrices 100x100"
      ]
    },
    {
      "cell_type": "code",
      "execution_count": 8,
      "metadata": {
        "colab": {
          "base_uri": "https://localhost:8080/"
        },
        "id": "DkRqppJh0Eng",
        "outputId": "02e87d5a-1b3a-429e-f4f1-6f551c3ac1c4"
      },
      "outputs": [
        {
          "name": "stdout",
          "output_type": "stream",
          "text": [
            "[⌛] Tiempo de ejecución (100x100): 0.18588519096374512 segundos\n"
          ]
        }
      ],
      "source": [
        "import time, random\n",
        "\n",
        "# medida de tiempo\n",
        "start_time = time.time()\n",
        "result_python = matrix_multiply_python(matrix_a, matrix_b)\n",
        "end_time = time.time()\n",
        "\n",
        "elapsed_time = end_time - start_time\n",
        "\n",
        "print(f\"[⌛] Tiempo de ejecución (100x100): {elapsed_time} segundos\")\n"
      ]
    },
    {
      "cell_type": "markdown",
      "metadata": {
        "id": "Kj4XawuiEns7"
      },
      "source": [
        "... ¿Y si aumentamos el tamaño a 1000x1000??"
      ]
    },
    {
      "cell_type": "code",
      "execution_count": 9,
      "metadata": {
        "id": "bkXscygnEtKF"
      },
      "outputs": [],
      "source": [
        "matrix_c = generate_random_matrix(1000, 1000)  # matriz 1000x1000\n",
        "matrix_d = generate_random_matrix(1000, 1000)  # matriz 1000x1000"
      ]
    },
    {
      "cell_type": "code",
      "execution_count": 10,
      "metadata": {
        "colab": {
          "base_uri": "https://localhost:8080/",
          "height": 368
        },
        "id": "c6f_Sxj_EWeV",
        "outputId": "745f0f04-006c-4eca-e2a0-b0d197534f21"
      },
      "outputs": [
        {
          "name": "stdout",
          "output_type": "stream",
          "text": [
            "[⌛] Tiempo de ejecución (1000x1000): 167.33525443077087 segundos\n"
          ]
        }
      ],
      "source": [
        "start_time = time.time()\n",
        "result_python = matrix_multiply_python(matrix_c, matrix_d)\n",
        "end_time = time.time()\n",
        "\n",
        "elapsed_time = end_time - start_time\n",
        "\n",
        "print(f\"[⌛] Tiempo de ejecución (1000x1000): {elapsed_time} segundos\")"
      ]
    },
    {
      "cell_type": "markdown",
      "metadata": {
        "id": "Kp4HLZy91cEL"
      },
      "source": [
        "Resultado: 15 líneas de código y unos 100000 años de tiempo de ejecución."
      ]
    },
    {
      "cell_type": "markdown",
      "metadata": {
        "id": "MB8Qes2f1emL"
      },
      "source": [
        "### Producto de matrices O(n²) con NumPy\n",
        "\n",
        "\n",
        "No sólo es más sencillo de implementar, sino miles de veces más rápido"
      ]
    },
    {
      "cell_type": "code",
      "execution_count": 11,
      "metadata": {
        "colab": {
          "base_uri": "https://localhost:8080/"
        },
        "id": "P8QqW7Z6z8vm",
        "outputId": "1a1127eb-dd1f-47da-b0a1-f7eae3e940fa"
      },
      "outputs": [
        {
          "name": "stdout",
          "output_type": "stream",
          "text": [
            "[⌛] Tiempo de ejecución: 0.031214475631713867 segundos\n"
          ]
        }
      ],
      "source": [
        "import numpy as np\n",
        "\n",
        "def matrix_multiply_numpy(A, B):\n",
        "    return np.dot(A, B)\n",
        "\n",
        "# declaración de matrices\n",
        "matrix_a = np.random.rand(1000, 1000)\n",
        "matrix_b = np.random.rand(1000, 1000)\n",
        "\n",
        "# medida de tiempo\n",
        "start_time = time.time()\n",
        "result_numpy = matrix_multiply_numpy(matrix_a, matrix_b)\n",
        "end_time = time.time()\n",
        "\n",
        "elapsed_time = end_time - start_time\n",
        "\n",
        "\n",
        "print(f\"[⌛] Tiempo de ejecución: {elapsed_time} segundos\")\n"
      ]
    },
    {
      "cell_type": "markdown",
      "metadata": {
        "id": "_4c_OlvoEKs6"
      },
      "source": [
        "Resultado: 5 líneas de código y una fracción de segundo."
      ]
    }
  ],
  "metadata": {
    "colab": {
      "collapsed_sections": [
        "u3DzVRYB2Po0",
        "rai1zTut2U7Q"
      ],
      "provenance": []
    },
    "kernelspec": {
      "display_name": "Python 3.10.5 64-bit",
      "language": "python",
      "name": "python3"
    },
    "language_info": {
      "codemirror_mode": {
        "name": "ipython",
        "version": 3
      },
      "file_extension": ".py",
      "mimetype": "text/x-python",
      "name": "python",
      "nbconvert_exporter": "python",
      "pygments_lexer": "ipython3",
      "version": "3.10.5"
    },
    "vscode": {
      "interpreter": {
        "hash": "369f2c481f4da34e4445cda3fffd2e751bd1c4d706f27375911949ba6bb62e1c"
      }
    }
  },
  "nbformat": 4,
  "nbformat_minor": 0
}

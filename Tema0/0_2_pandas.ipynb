{
  "cells": [
    {
      "cell_type": "markdown",
      "metadata": {
        "id": "uFjVzhfZW-ni"
      },
      "source": [
        "# Pandas"
      ]
    },
    {
      "cell_type": "markdown",
      "metadata": {
        "id": "TU4y_OpwYYza"
      },
      "source": [
        "| Función      | Descripción                                                                                     |\n",
        "|--------------|-------------------------------------------------------------------------------------------------|\n",
        "| read_csv     | Carga datos delimitados desde un archivo o URL, la coma (',') es el delimitador predeterminado |\n",
        "| read_table   | Carga datos delimitados desde un archivo o URL, la tabulación ('\\t') es el delimitador predeterminado |\n"
      ]
    },
    {
      "cell_type": "markdown",
      "metadata": {
        "id": "0Xyr6evYtZJf"
      },
      "source": [
        "## Creación de un DataFrame"
      ]
    },
    {
      "cell_type": "code",
      "execution_count": 3,
      "metadata": {
        "colab": {
          "base_uri": "https://localhost:8080/",
          "height": 615
        },
        "id": "FRgqQdknPBYU",
        "outputId": "046199e8-3c1e-48ce-a08e-0d8ac6b05dd1"
      },
      "outputs": [
        {
          "data": {
            "text/html": [
              "<div>\n",
              "<style scoped>\n",
              "    .dataframe tbody tr th:only-of-type {\n",
              "        vertical-align: middle;\n",
              "    }\n",
              "\n",
              "    .dataframe tbody tr th {\n",
              "        vertical-align: top;\n",
              "    }\n",
              "\n",
              "    .dataframe thead th {\n",
              "        text-align: right;\n",
              "    }\n",
              "</style>\n",
              "<table border=\"1\" class=\"dataframe\">\n",
              "  <thead>\n",
              "    <tr style=\"text-align: right;\">\n",
              "      <th></th>\n",
              "      <th>id</th>\n",
              "      <th>title</th>\n",
              "      <th>abstract</th>\n",
              "      <th>Unnamed: 3</th>\n",
              "      <th>keywords</th>\n",
              "      <th>Unnamed: 5</th>\n",
              "      <th>Unnamed: 6</th>\n",
              "      <th>Unnamed: 7</th>\n",
              "    </tr>\n",
              "  </thead>\n",
              "  <tbody>\n",
              "    <tr>\n",
              "      <th>0</th>\n",
              "      <td>1</td>\n",
              "      <td>Ensemble Statistical and Heuristic Models for ...</td>\n",
              "      <td>Statistical word alignment models need large a...</td>\n",
              "      <td>NaN</td>\n",
              "      <td>statistical word alignment, ensemble learning,...</td>\n",
              "      <td>NaN</td>\n",
              "      <td>NaN</td>\n",
              "      <td>NaN</td>\n",
              "    </tr>\n",
              "    <tr>\n",
              "      <th>1</th>\n",
              "      <td>2</td>\n",
              "      <td>Improving Spectral Learning by Using Multiple ...</td>\n",
              "      <td>Spectral learning algorithms learn an unknown ...</td>\n",
              "      <td>NaN</td>\n",
              "      <td>representation, spectral learning, discrete fo...</td>\n",
              "      <td>NaN</td>\n",
              "      <td>NaN</td>\n",
              "      <td>NaN</td>\n",
              "    </tr>\n",
              "    <tr>\n",
              "      <th>2</th>\n",
              "      <td>3</td>\n",
              "      <td>Applying Swarm Ensemble Clustering Technique f...</td>\n",
              "      <td>Number of defects remaining in a system provid...</td>\n",
              "      <td>NaN</td>\n",
              "      <td>software defect prediction, particle swarm opt...</td>\n",
              "      <td>NaN</td>\n",
              "      <td>NaN</td>\n",
              "      <td>NaN</td>\n",
              "    </tr>\n",
              "    <tr>\n",
              "      <th>3</th>\n",
              "      <td>4</td>\n",
              "      <td>Reducing the Effects of Detrimental Instances</td>\n",
              "      <td>Not all instances in a data set are equally be...</td>\n",
              "      <td>NaN</td>\n",
              "      <td>filtering, label noise, instance weighting</td>\n",
              "      <td>NaN</td>\n",
              "      <td>NaN</td>\n",
              "      <td>NaN</td>\n",
              "    </tr>\n",
              "    <tr>\n",
              "      <th>4</th>\n",
              "      <td>5</td>\n",
              "      <td>Concept Drift Awareness in Twitter Streams</td>\n",
              "      <td>Learning in non-stationary environments is not...</td>\n",
              "      <td>NaN</td>\n",
              "      <td>twitter, adaptation models, time-frequency ana...</td>\n",
              "      <td>NaN</td>\n",
              "      <td>NaN</td>\n",
              "      <td>NaN</td>\n",
              "    </tr>\n",
              "    <tr>\n",
              "      <th>...</th>\n",
              "      <td>...</td>\n",
              "      <td>...</td>\n",
              "      <td>...</td>\n",
              "      <td>...</td>\n",
              "      <td>...</td>\n",
              "      <td>...</td>\n",
              "      <td>...</td>\n",
              "      <td>...</td>\n",
              "    </tr>\n",
              "    <tr>\n",
              "      <th>443</th>\n",
              "      <td>444</td>\n",
              "      <td>A Machine Learning Tool for Supporting Advance...</td>\n",
              "      <td>In the current era of big data, high volumes o...</td>\n",
              "      <td>NaN</td>\n",
              "      <td>machine-learning,unsupervised-learning,knowled...</td>\n",
              "      <td>NaN</td>\n",
              "      <td>NaN</td>\n",
              "      <td>NaN</td>\n",
              "    </tr>\n",
              "    <tr>\n",
              "      <th>444</th>\n",
              "      <td>445</td>\n",
              "      <td>Advanced ECHMM-Based Machine Learning Tools fo...</td>\n",
              "      <td>We present a novel approach for accurate chara...</td>\n",
              "      <td>NaN</td>\n",
              "      <td>workload characterization,hmm,cepstral coeffic...</td>\n",
              "      <td>NaN</td>\n",
              "      <td>NaN</td>\n",
              "      <td>NaN</td>\n",
              "    </tr>\n",
              "    <tr>\n",
              "      <th>445</th>\n",
              "      <td>446</td>\n",
              "      <td>A Cluster Analysis of Challenging Behaviors in...</td>\n",
              "      <td>We apply cluster analysis to a sample of 2,116...</td>\n",
              "      <td>NaN</td>\n",
              "      <td>cluster analysis,autism spectrum disorder,chal...</td>\n",
              "      <td>NaN</td>\n",
              "      <td>NaN</td>\n",
              "      <td>NaN</td>\n",
              "    </tr>\n",
              "    <tr>\n",
              "      <th>446</th>\n",
              "      <td>447</td>\n",
              "      <td>Predicting Psychosis Using the Experience Samp...</td>\n",
              "      <td>Smart phones have become ubiquitous in the rec...</td>\n",
              "      <td>NaN</td>\n",
              "      <td>predicting psychosis,esm,mhealth,svm,gaussian ...</td>\n",
              "      <td>NaN</td>\n",
              "      <td>NaN</td>\n",
              "      <td>NaN</td>\n",
              "    </tr>\n",
              "    <tr>\n",
              "      <th>447</th>\n",
              "      <td>448</td>\n",
              "      <td>Bayesian Nonparametric Clustering of Patients ...</td>\n",
              "      <td>Bayesian nonparametric (BNP) statistical techn...</td>\n",
              "      <td>NaN</td>\n",
              "      <td>bayes methods,monte carlo methods,numerical si...</td>\n",
              "      <td>NaN</td>\n",
              "      <td>NaN</td>\n",
              "      <td>NaN</td>\n",
              "    </tr>\n",
              "  </tbody>\n",
              "</table>\n",
              "<p>448 rows × 8 columns</p>\n",
              "</div>"
            ],
            "text/plain": [
              "      id                                              title  \\\n",
              "0      1  Ensemble Statistical and Heuristic Models for ...   \n",
              "1      2  Improving Spectral Learning by Using Multiple ...   \n",
              "2      3  Applying Swarm Ensemble Clustering Technique f...   \n",
              "3      4      Reducing the Effects of Detrimental Instances   \n",
              "4      5         Concept Drift Awareness in Twitter Streams   \n",
              "..   ...                                                ...   \n",
              "443  444  A Machine Learning Tool for Supporting Advance...   \n",
              "444  445  Advanced ECHMM-Based Machine Learning Tools fo...   \n",
              "445  446  A Cluster Analysis of Challenging Behaviors in...   \n",
              "446  447  Predicting Psychosis Using the Experience Samp...   \n",
              "447  448  Bayesian Nonparametric Clustering of Patients ...   \n",
              "\n",
              "                                              abstract  Unnamed: 3  \\\n",
              "0    Statistical word alignment models need large a...         NaN   \n",
              "1    Spectral learning algorithms learn an unknown ...         NaN   \n",
              "2    Number of defects remaining in a system provid...         NaN   \n",
              "3    Not all instances in a data set are equally be...         NaN   \n",
              "4    Learning in non-stationary environments is not...         NaN   \n",
              "..                                                 ...         ...   \n",
              "443  In the current era of big data, high volumes o...         NaN   \n",
              "444  We present a novel approach for accurate chara...         NaN   \n",
              "445  We apply cluster analysis to a sample of 2,116...         NaN   \n",
              "446  Smart phones have become ubiquitous in the rec...         NaN   \n",
              "447  Bayesian nonparametric (BNP) statistical techn...         NaN   \n",
              "\n",
              "                                              keywords Unnamed: 5 Unnamed: 6  \\\n",
              "0    statistical word alignment, ensemble learning,...        NaN        NaN   \n",
              "1    representation, spectral learning, discrete fo...        NaN        NaN   \n",
              "2    software defect prediction, particle swarm opt...        NaN        NaN   \n",
              "3           filtering, label noise, instance weighting        NaN        NaN   \n",
              "4    twitter, adaptation models, time-frequency ana...        NaN        NaN   \n",
              "..                                                 ...        ...        ...   \n",
              "443  machine-learning,unsupervised-learning,knowled...        NaN        NaN   \n",
              "444  workload characterization,hmm,cepstral coeffic...        NaN        NaN   \n",
              "445  cluster analysis,autism spectrum disorder,chal...        NaN        NaN   \n",
              "446  predicting psychosis,esm,mhealth,svm,gaussian ...        NaN        NaN   \n",
              "447  bayes methods,monte carlo methods,numerical si...        NaN        NaN   \n",
              "\n",
              "     Unnamed: 7  \n",
              "0           NaN  \n",
              "1           NaN  \n",
              "2           NaN  \n",
              "3           NaN  \n",
              "4           NaN  \n",
              "..          ...  \n",
              "443         NaN  \n",
              "444         NaN  \n",
              "445         NaN  \n",
              "446         NaN  \n",
              "447         NaN  \n",
              "\n",
              "[448 rows x 8 columns]"
            ]
          },
          "execution_count": 3,
          "metadata": {},
          "output_type": "execute_result"
        }
      ],
      "source": [
        "import pandas as pd\n",
        "\n",
        "# lectura desde URL\n",
        "url = \"https://gist.githubusercontent.com/w-dan/b84bdbfbd86b610a89aa0aa57e6efb5e/raw/aeaffaa9d26c66678b697ecb9fd99fd0c8eaca52/papers.csv\"\n",
        "df = pd.read_csv(url)\n",
        "\n",
        "# mostrar dataframe\n",
        "df"
      ]
    },
    {
      "cell_type": "markdown",
      "metadata": {
        "id": "UTrXi70feDcX"
      },
      "source": [
        "Parece que tiene muchos valores nulos... Vamos a intentar deshacernos de ellos para obtener un DataFrame más limpio:"
      ]
    },
    {
      "cell_type": "markdown",
      "metadata": {
        "id": "OK5UURlmtcc3"
      },
      "source": [
        "# Ejemplo de limpieza de un DataFrame"
      ]
    },
    {
      "cell_type": "markdown",
      "metadata": {
        "id": "s7XhiF3ieU70"
      },
      "source": [
        "## Método *drop*\n",
        "\n",
        "Parámetros:\n",
        "- `labels`: **array** con los nombres de las columnas a borrar\n",
        "- `axis`: **entero** (1=columna, 0=fila)\n",
        "\n",
        "Devuelve:\n",
        "- `DataFrame` sin las columnas (o filas) especificadas"
      ]
    },
    {
      "cell_type": "code",
      "execution_count": 4,
      "metadata": {
        "colab": {
          "base_uri": "https://localhost:8080/",
          "height": 424
        },
        "id": "j07nB7EedxSi",
        "outputId": "4700b9e8-fd71-4ab2-e421-ace58b9c7c16"
      },
      "outputs": [
        {
          "data": {
            "text/html": [
              "<div>\n",
              "<style scoped>\n",
              "    .dataframe tbody tr th:only-of-type {\n",
              "        vertical-align: middle;\n",
              "    }\n",
              "\n",
              "    .dataframe tbody tr th {\n",
              "        vertical-align: top;\n",
              "    }\n",
              "\n",
              "    .dataframe thead th {\n",
              "        text-align: right;\n",
              "    }\n",
              "</style>\n",
              "<table border=\"1\" class=\"dataframe\">\n",
              "  <thead>\n",
              "    <tr style=\"text-align: right;\">\n",
              "      <th></th>\n",
              "      <th>id</th>\n",
              "      <th>title</th>\n",
              "      <th>abstract</th>\n",
              "      <th>keywords</th>\n",
              "    </tr>\n",
              "  </thead>\n",
              "  <tbody>\n",
              "    <tr>\n",
              "      <th>0</th>\n",
              "      <td>1</td>\n",
              "      <td>Ensemble Statistical and Heuristic Models for ...</td>\n",
              "      <td>Statistical word alignment models need large a...</td>\n",
              "      <td>statistical word alignment, ensemble learning,...</td>\n",
              "    </tr>\n",
              "    <tr>\n",
              "      <th>1</th>\n",
              "      <td>2</td>\n",
              "      <td>Improving Spectral Learning by Using Multiple ...</td>\n",
              "      <td>Spectral learning algorithms learn an unknown ...</td>\n",
              "      <td>representation, spectral learning, discrete fo...</td>\n",
              "    </tr>\n",
              "    <tr>\n",
              "      <th>2</th>\n",
              "      <td>3</td>\n",
              "      <td>Applying Swarm Ensemble Clustering Technique f...</td>\n",
              "      <td>Number of defects remaining in a system provid...</td>\n",
              "      <td>software defect prediction, particle swarm opt...</td>\n",
              "    </tr>\n",
              "    <tr>\n",
              "      <th>3</th>\n",
              "      <td>4</td>\n",
              "      <td>Reducing the Effects of Detrimental Instances</td>\n",
              "      <td>Not all instances in a data set are equally be...</td>\n",
              "      <td>filtering, label noise, instance weighting</td>\n",
              "    </tr>\n",
              "    <tr>\n",
              "      <th>4</th>\n",
              "      <td>5</td>\n",
              "      <td>Concept Drift Awareness in Twitter Streams</td>\n",
              "      <td>Learning in non-stationary environments is not...</td>\n",
              "      <td>twitter, adaptation models, time-frequency ana...</td>\n",
              "    </tr>\n",
              "    <tr>\n",
              "      <th>...</th>\n",
              "      <td>...</td>\n",
              "      <td>...</td>\n",
              "      <td>...</td>\n",
              "      <td>...</td>\n",
              "    </tr>\n",
              "    <tr>\n",
              "      <th>443</th>\n",
              "      <td>444</td>\n",
              "      <td>A Machine Learning Tool for Supporting Advance...</td>\n",
              "      <td>In the current era of big data, high volumes o...</td>\n",
              "      <td>machine-learning,unsupervised-learning,knowled...</td>\n",
              "    </tr>\n",
              "    <tr>\n",
              "      <th>444</th>\n",
              "      <td>445</td>\n",
              "      <td>Advanced ECHMM-Based Machine Learning Tools fo...</td>\n",
              "      <td>We present a novel approach for accurate chara...</td>\n",
              "      <td>workload characterization,hmm,cepstral coeffic...</td>\n",
              "    </tr>\n",
              "    <tr>\n",
              "      <th>445</th>\n",
              "      <td>446</td>\n",
              "      <td>A Cluster Analysis of Challenging Behaviors in...</td>\n",
              "      <td>We apply cluster analysis to a sample of 2,116...</td>\n",
              "      <td>cluster analysis,autism spectrum disorder,chal...</td>\n",
              "    </tr>\n",
              "    <tr>\n",
              "      <th>446</th>\n",
              "      <td>447</td>\n",
              "      <td>Predicting Psychosis Using the Experience Samp...</td>\n",
              "      <td>Smart phones have become ubiquitous in the rec...</td>\n",
              "      <td>predicting psychosis,esm,mhealth,svm,gaussian ...</td>\n",
              "    </tr>\n",
              "    <tr>\n",
              "      <th>447</th>\n",
              "      <td>448</td>\n",
              "      <td>Bayesian Nonparametric Clustering of Patients ...</td>\n",
              "      <td>Bayesian nonparametric (BNP) statistical techn...</td>\n",
              "      <td>bayes methods,monte carlo methods,numerical si...</td>\n",
              "    </tr>\n",
              "  </tbody>\n",
              "</table>\n",
              "<p>448 rows × 4 columns</p>\n",
              "</div>"
            ],
            "text/plain": [
              "      id                                              title  \\\n",
              "0      1  Ensemble Statistical and Heuristic Models for ...   \n",
              "1      2  Improving Spectral Learning by Using Multiple ...   \n",
              "2      3  Applying Swarm Ensemble Clustering Technique f...   \n",
              "3      4      Reducing the Effects of Detrimental Instances   \n",
              "4      5         Concept Drift Awareness in Twitter Streams   \n",
              "..   ...                                                ...   \n",
              "443  444  A Machine Learning Tool for Supporting Advance...   \n",
              "444  445  Advanced ECHMM-Based Machine Learning Tools fo...   \n",
              "445  446  A Cluster Analysis of Challenging Behaviors in...   \n",
              "446  447  Predicting Psychosis Using the Experience Samp...   \n",
              "447  448  Bayesian Nonparametric Clustering of Patients ...   \n",
              "\n",
              "                                              abstract  \\\n",
              "0    Statistical word alignment models need large a...   \n",
              "1    Spectral learning algorithms learn an unknown ...   \n",
              "2    Number of defects remaining in a system provid...   \n",
              "3    Not all instances in a data set are equally be...   \n",
              "4    Learning in non-stationary environments is not...   \n",
              "..                                                 ...   \n",
              "443  In the current era of big data, high volumes o...   \n",
              "444  We present a novel approach for accurate chara...   \n",
              "445  We apply cluster analysis to a sample of 2,116...   \n",
              "446  Smart phones have become ubiquitous in the rec...   \n",
              "447  Bayesian nonparametric (BNP) statistical techn...   \n",
              "\n",
              "                                              keywords  \n",
              "0    statistical word alignment, ensemble learning,...  \n",
              "1    representation, spectral learning, discrete fo...  \n",
              "2    software defect prediction, particle swarm opt...  \n",
              "3           filtering, label noise, instance weighting  \n",
              "4    twitter, adaptation models, time-frequency ana...  \n",
              "..                                                 ...  \n",
              "443  machine-learning,unsupervised-learning,knowled...  \n",
              "444  workload characterization,hmm,cepstral coeffic...  \n",
              "445  cluster analysis,autism spectrum disorder,chal...  \n",
              "446  predicting psychosis,esm,mhealth,svm,gaussian ...  \n",
              "447  bayes methods,monte carlo methods,numerical si...  \n",
              "\n",
              "[448 rows x 4 columns]"
            ]
          },
          "execution_count": 4,
          "metadata": {},
          "output_type": "execute_result"
        }
      ],
      "source": [
        "df = df.drop(['Unnamed: 3', 'Unnamed: 5', 'Unnamed: 6', 'Unnamed: 7'], axis=1)\n",
        "\n",
        "df"
      ]
    },
    {
      "cell_type": "markdown",
      "metadata": {
        "id": "JhFnwj8TfGib"
      },
      "source": [
        "## Método unique\n",
        "\n",
        "Método de la clase `column` de pandas\n",
        "\n",
        "Devuelve:\n",
        "- Array con los valores únicos de una columna"
      ]
    },
    {
      "cell_type": "code",
      "execution_count": 5,
      "metadata": {
        "colab": {
          "base_uri": "https://localhost:8080/"
        },
        "id": "ElNbDw75eMHL",
        "outputId": "c6887376-40f4-460d-e982-9d31c1275ece"
      },
      "outputs": [
        {
          "data": {
            "text/plain": [
              "array([  1,   2,   3,   4,   5,   6,   7,   8,   9,  10,  11,  12,  13,\n",
              "        14,  15,  16,  17,  18,  19,  20,  21,  22,  23,  24,  25,  26,\n",
              "        27,  28,  29,  30,  31,  32,  33,  34,  35,  36,  37,  38,  39,\n",
              "        40,  41,  42,  43,  44,  45,  46,  47,  48,  49,  50,  51,  52,\n",
              "        53,  54,  55,  56,  57,  58,  59,  60,  61,  62,  63,  64,  65,\n",
              "        66,  67,  68,  69,  70,  71,  72,  73,  74,  75,  76,  77,  78,\n",
              "        79,  80,  81,  82,  83,  84,  85,  86,  87,  88,  89,  90,  91,\n",
              "        92,  93,  94,  95,  96,  97,  98,  99, 100, 101, 102, 103, 104,\n",
              "       105, 106, 107, 108, 109, 110, 111, 112, 113, 114, 115, 116, 117,\n",
              "       118, 119, 120, 121, 122, 123, 124, 125, 126, 127, 128, 129, 130,\n",
              "       131, 132, 133, 134, 135, 136, 137, 138, 139, 140, 141, 142, 143,\n",
              "       144, 145, 146, 147, 148, 149, 150, 151, 152, 153, 154, 155, 156,\n",
              "       157, 158, 159, 160, 161, 162, 163, 164, 165, 166, 167, 168, 169,\n",
              "       170, 171, 172, 173, 174, 175, 176, 177, 178, 179, 180, 181, 182,\n",
              "       183, 184, 185, 186, 187, 188, 189, 190, 191, 192, 193, 194, 195,\n",
              "       196, 197, 198, 199, 200, 201, 202, 203, 204, 205, 206, 207, 208,\n",
              "       209, 210, 211, 212, 213, 214, 215, 216, 217, 218, 219, 220, 221,\n",
              "       222, 223, 224, 225, 226, 227, 228, 229, 230, 231, 232, 233, 234,\n",
              "       235, 236, 237, 238, 239, 240, 241, 242, 243, 244, 245, 246, 247,\n",
              "       248, 249, 250, 251, 252, 253, 254, 255, 256, 257, 258, 259, 260,\n",
              "       261, 262, 263, 264, 265, 266, 267, 268, 269, 270, 271, 272, 273,\n",
              "       274, 275, 276, 277, 278, 279, 280, 281, 282, 283, 284, 285, 286,\n",
              "       287, 288, 289, 290, 291, 292, 293, 294, 295, 296, 297, 298, 299,\n",
              "       300, 301, 302, 303, 304, 305, 306, 307, 308, 309, 310, 311, 312,\n",
              "       313, 314, 315, 316, 317, 318, 319, 320, 321, 322, 323, 324, 325,\n",
              "       326, 327, 328, 329, 330, 331, 332, 333, 334, 335, 336, 337, 338,\n",
              "       339, 340, 341, 342, 343, 344, 345, 346, 347, 348, 349, 350, 351,\n",
              "       352, 353, 354, 355, 356, 357, 358, 359, 360, 361, 362, 363, 364,\n",
              "       365, 366, 367, 368, 369, 370, 371, 372, 373, 374, 375, 376, 377,\n",
              "       378, 379, 380, 381, 382, 383, 384, 385, 386, 387, 388, 389, 390,\n",
              "       391, 392, 393, 394, 395, 396, 397, 398, 399, 400, 401, 402, 403,\n",
              "       404, 405, 406, 407, 408, 409, 410, 411, 412, 413, 414, 415, 416,\n",
              "       417, 418, 419, 420, 421, 422, 423, 424, 425, 426, 427, 428, 429,\n",
              "       430, 431, 432, 433, 434, 435, 436, 437, 438, 439, 440, 441, 442,\n",
              "       443, 444, 445, 446, 447, 448], dtype=int64)"
            ]
          },
          "execution_count": 5,
          "metadata": {},
          "output_type": "execute_result"
        }
      ],
      "source": [
        "df['id'].unique()"
      ]
    },
    {
      "cell_type": "markdown",
      "metadata": {
        "id": "RRldK5eXgDWZ"
      },
      "source": [
        "## Método nunique\n",
        "\n",
        "\n",
        "Análogo a unique\n",
        "\n",
        "Devuelve:\n",
        "- un `entero` que corresponde al número de valores distintos de la columna"
      ]
    },
    {
      "cell_type": "code",
      "execution_count": 6,
      "metadata": {
        "colab": {
          "base_uri": "https://localhost:8080/"
        },
        "id": "yY9HsQ18f7aR",
        "outputId": "077b0e8f-5cd6-4df1-8cbf-77dc3524be56"
      },
      "outputs": [
        {
          "data": {
            "text/plain": [
              "448"
            ]
          },
          "execution_count": 6,
          "metadata": {},
          "output_type": "execute_result"
        }
      ],
      "source": [
        "df['id'].nunique()"
      ]
    },
    {
      "cell_type": "markdown",
      "metadata": {
        "id": "gohen4tSgpnj"
      },
      "source": [
        "Equivale a:"
      ]
    },
    {
      "cell_type": "code",
      "execution_count": 7,
      "metadata": {
        "colab": {
          "base_uri": "https://localhost:8080/"
        },
        "id": "zyZlmgnygpFV",
        "outputId": "bf382566-3c49-4af9-efa8-ade433f59a9c"
      },
      "outputs": [
        {
          "data": {
            "text/plain": [
              "448"
            ]
          },
          "execution_count": 7,
          "metadata": {},
          "output_type": "execute_result"
        }
      ],
      "source": [
        "len(df['id'].unique())"
      ]
    },
    {
      "cell_type": "markdown",
      "metadata": {
        "id": "xi18o6VltlZp"
      },
      "source": [
        "## Método isnull"
      ]
    },
    {
      "cell_type": "code",
      "execution_count": 8,
      "metadata": {
        "colab": {
          "base_uri": "https://localhost:8080/"
        },
        "id": "Mgrqvv-8ttzH",
        "outputId": "557f9f54-f0d2-4c94-d039-95c0c2564587"
      },
      "outputs": [
        {
          "data": {
            "text/plain": [
              "id          0\n",
              "title       0\n",
              "abstract    0\n",
              "keywords    0\n",
              "dtype: int64"
            ]
          },
          "execution_count": 8,
          "metadata": {},
          "output_type": "execute_result"
        }
      ],
      "source": [
        "df.isnull().sum()"
      ]
    },
    {
      "cell_type": "markdown",
      "metadata": {
        "id": "uihwwV-CtgNv"
      },
      "source": [
        "## Método apply"
      ]
    },
    {
      "cell_type": "code",
      "execution_count": 9,
      "metadata": {
        "colab": {
          "base_uri": "https://localhost:8080/",
          "height": 424
        },
        "id": "BnX0FwGtti4j",
        "outputId": "bc611ca3-91fd-4809-e15b-17421310dd1e"
      },
      "outputs": [
        {
          "data": {
            "text/html": [
              "<div>\n",
              "<style scoped>\n",
              "    .dataframe tbody tr th:only-of-type {\n",
              "        vertical-align: middle;\n",
              "    }\n",
              "\n",
              "    .dataframe tbody tr th {\n",
              "        vertical-align: top;\n",
              "    }\n",
              "\n",
              "    .dataframe thead th {\n",
              "        text-align: right;\n",
              "    }\n",
              "</style>\n",
              "<table border=\"1\" class=\"dataframe\">\n",
              "  <thead>\n",
              "    <tr style=\"text-align: right;\">\n",
              "      <th></th>\n",
              "      <th>id</th>\n",
              "      <th>title</th>\n",
              "      <th>abstract</th>\n",
              "      <th>keywords</th>\n",
              "      <th>abstract_length</th>\n",
              "    </tr>\n",
              "  </thead>\n",
              "  <tbody>\n",
              "    <tr>\n",
              "      <th>0</th>\n",
              "      <td>1</td>\n",
              "      <td>Ensemble Statistical and Heuristic Models for ...</td>\n",
              "      <td>Statistical word alignment models need large a...</td>\n",
              "      <td>statistical word alignment, ensemble learning,...</td>\n",
              "      <td>110</td>\n",
              "    </tr>\n",
              "    <tr>\n",
              "      <th>1</th>\n",
              "      <td>2</td>\n",
              "      <td>Improving Spectral Learning by Using Multiple ...</td>\n",
              "      <td>Spectral learning algorithms learn an unknown ...</td>\n",
              "      <td>representation, spectral learning, discrete fo...</td>\n",
              "      <td>100</td>\n",
              "    </tr>\n",
              "    <tr>\n",
              "      <th>2</th>\n",
              "      <td>3</td>\n",
              "      <td>Applying Swarm Ensemble Clustering Technique f...</td>\n",
              "      <td>Number of defects remaining in a system provid...</td>\n",
              "      <td>software defect prediction, particle swarm opt...</td>\n",
              "      <td>111</td>\n",
              "    </tr>\n",
              "    <tr>\n",
              "      <th>3</th>\n",
              "      <td>4</td>\n",
              "      <td>Reducing the Effects of Detrimental Instances</td>\n",
              "      <td>Not all instances in a data set are equally be...</td>\n",
              "      <td>filtering, label noise, instance weighting</td>\n",
              "      <td>193</td>\n",
              "    </tr>\n",
              "    <tr>\n",
              "      <th>4</th>\n",
              "      <td>5</td>\n",
              "      <td>Concept Drift Awareness in Twitter Streams</td>\n",
              "      <td>Learning in non-stationary environments is not...</td>\n",
              "      <td>twitter, adaptation models, time-frequency ana...</td>\n",
              "      <td>174</td>\n",
              "    </tr>\n",
              "    <tr>\n",
              "      <th>...</th>\n",
              "      <td>...</td>\n",
              "      <td>...</td>\n",
              "      <td>...</td>\n",
              "      <td>...</td>\n",
              "      <td>...</td>\n",
              "    </tr>\n",
              "    <tr>\n",
              "      <th>443</th>\n",
              "      <td>444</td>\n",
              "      <td>A Machine Learning Tool for Supporting Advance...</td>\n",
              "      <td>In the current era of big data, high volumes o...</td>\n",
              "      <td>machine-learning,unsupervised-learning,knowled...</td>\n",
              "      <td>200</td>\n",
              "    </tr>\n",
              "    <tr>\n",
              "      <th>444</th>\n",
              "      <td>445</td>\n",
              "      <td>Advanced ECHMM-Based Machine Learning Tools fo...</td>\n",
              "      <td>We present a novel approach for accurate chara...</td>\n",
              "      <td>workload characterization,hmm,cepstral coeffic...</td>\n",
              "      <td>243</td>\n",
              "    </tr>\n",
              "    <tr>\n",
              "      <th>445</th>\n",
              "      <td>446</td>\n",
              "      <td>A Cluster Analysis of Challenging Behaviors in...</td>\n",
              "      <td>We apply cluster analysis to a sample of 2,116...</td>\n",
              "      <td>cluster analysis,autism spectrum disorder,chal...</td>\n",
              "      <td>119</td>\n",
              "    </tr>\n",
              "    <tr>\n",
              "      <th>446</th>\n",
              "      <td>447</td>\n",
              "      <td>Predicting Psychosis Using the Experience Samp...</td>\n",
              "      <td>Smart phones have become ubiquitous in the rec...</td>\n",
              "      <td>predicting psychosis,esm,mhealth,svm,gaussian ...</td>\n",
              "      <td>229</td>\n",
              "    </tr>\n",
              "    <tr>\n",
              "      <th>447</th>\n",
              "      <td>448</td>\n",
              "      <td>Bayesian Nonparametric Clustering of Patients ...</td>\n",
              "      <td>Bayesian nonparametric (BNP) statistical techn...</td>\n",
              "      <td>bayes methods,monte carlo methods,numerical si...</td>\n",
              "      <td>195</td>\n",
              "    </tr>\n",
              "  </tbody>\n",
              "</table>\n",
              "<p>448 rows × 5 columns</p>\n",
              "</div>"
            ],
            "text/plain": [
              "      id                                              title  \\\n",
              "0      1  Ensemble Statistical and Heuristic Models for ...   \n",
              "1      2  Improving Spectral Learning by Using Multiple ...   \n",
              "2      3  Applying Swarm Ensemble Clustering Technique f...   \n",
              "3      4      Reducing the Effects of Detrimental Instances   \n",
              "4      5         Concept Drift Awareness in Twitter Streams   \n",
              "..   ...                                                ...   \n",
              "443  444  A Machine Learning Tool for Supporting Advance...   \n",
              "444  445  Advanced ECHMM-Based Machine Learning Tools fo...   \n",
              "445  446  A Cluster Analysis of Challenging Behaviors in...   \n",
              "446  447  Predicting Psychosis Using the Experience Samp...   \n",
              "447  448  Bayesian Nonparametric Clustering of Patients ...   \n",
              "\n",
              "                                              abstract  \\\n",
              "0    Statistical word alignment models need large a...   \n",
              "1    Spectral learning algorithms learn an unknown ...   \n",
              "2    Number of defects remaining in a system provid...   \n",
              "3    Not all instances in a data set are equally be...   \n",
              "4    Learning in non-stationary environments is not...   \n",
              "..                                                 ...   \n",
              "443  In the current era of big data, high volumes o...   \n",
              "444  We present a novel approach for accurate chara...   \n",
              "445  We apply cluster analysis to a sample of 2,116...   \n",
              "446  Smart phones have become ubiquitous in the rec...   \n",
              "447  Bayesian nonparametric (BNP) statistical techn...   \n",
              "\n",
              "                                              keywords  abstract_length  \n",
              "0    statistical word alignment, ensemble learning,...              110  \n",
              "1    representation, spectral learning, discrete fo...              100  \n",
              "2    software defect prediction, particle swarm opt...              111  \n",
              "3           filtering, label noise, instance weighting              193  \n",
              "4    twitter, adaptation models, time-frequency ana...              174  \n",
              "..                                                 ...              ...  \n",
              "443  machine-learning,unsupervised-learning,knowled...              200  \n",
              "444  workload characterization,hmm,cepstral coeffic...              243  \n",
              "445  cluster analysis,autism spectrum disorder,chal...              119  \n",
              "446  predicting psychosis,esm,mhealth,svm,gaussian ...              229  \n",
              "447  bayes methods,monte carlo methods,numerical si...              195  \n",
              "\n",
              "[448 rows x 5 columns]"
            ]
          },
          "execution_count": 9,
          "metadata": {},
          "output_type": "execute_result"
        }
      ],
      "source": [
        "df['abstract_length'] = df['abstract'].apply(lambda x: len(x.split()))\n",
        "\n",
        "df"
      ]
    },
    {
      "cell_type": "markdown",
      "metadata": {
        "id": "0mz0lHw1oRzn"
      },
      "source": [
        "# Concatenación y agrupamiento"
      ]
    },
    {
      "cell_type": "code",
      "execution_count": 10,
      "metadata": {
        "colab": {
          "base_uri": "https://localhost:8080/",
          "height": 426
        },
        "id": "ZcdtG6Z5gr_z",
        "outputId": "4cc6d0d2-423a-4735-85e9-1a32f715e303"
      },
      "outputs": [
        {
          "data": {
            "text/html": [
              "<div>\n",
              "<style scoped>\n",
              "    .dataframe tbody tr th:only-of-type {\n",
              "        vertical-align: middle;\n",
              "    }\n",
              "\n",
              "    .dataframe tbody tr th {\n",
              "        vertical-align: top;\n",
              "    }\n",
              "\n",
              "    .dataframe thead th {\n",
              "        text-align: right;\n",
              "    }\n",
              "</style>\n",
              "<table border=\"1\" class=\"dataframe\">\n",
              "  <thead>\n",
              "    <tr style=\"text-align: right;\">\n",
              "      <th></th>\n",
              "      <th>A</th>\n",
              "      <th>B</th>\n",
              "      <th>C</th>\n",
              "      <th>D</th>\n",
              "    </tr>\n",
              "  </thead>\n",
              "  <tbody>\n",
              "    <tr>\n",
              "      <th>0</th>\n",
              "      <td>A0</td>\n",
              "      <td>B0</td>\n",
              "      <td>C0</td>\n",
              "      <td>D0</td>\n",
              "    </tr>\n",
              "    <tr>\n",
              "      <th>1</th>\n",
              "      <td>A1</td>\n",
              "      <td>B1</td>\n",
              "      <td>C1</td>\n",
              "      <td>D1</td>\n",
              "    </tr>\n",
              "    <tr>\n",
              "      <th>2</th>\n",
              "      <td>A2</td>\n",
              "      <td>B2</td>\n",
              "      <td>C2</td>\n",
              "      <td>D2</td>\n",
              "    </tr>\n",
              "    <tr>\n",
              "      <th>3</th>\n",
              "      <td>A3</td>\n",
              "      <td>B3</td>\n",
              "      <td>C3</td>\n",
              "      <td>D3</td>\n",
              "    </tr>\n",
              "    <tr>\n",
              "      <th>4</th>\n",
              "      <td>A4</td>\n",
              "      <td>B4</td>\n",
              "      <td>C4</td>\n",
              "      <td>D4</td>\n",
              "    </tr>\n",
              "    <tr>\n",
              "      <th>5</th>\n",
              "      <td>A5</td>\n",
              "      <td>B5</td>\n",
              "      <td>C5</td>\n",
              "      <td>D5</td>\n",
              "    </tr>\n",
              "    <tr>\n",
              "      <th>6</th>\n",
              "      <td>A6</td>\n",
              "      <td>B6</td>\n",
              "      <td>C6</td>\n",
              "      <td>D6</td>\n",
              "    </tr>\n",
              "    <tr>\n",
              "      <th>7</th>\n",
              "      <td>A7</td>\n",
              "      <td>B7</td>\n",
              "      <td>C7</td>\n",
              "      <td>D7</td>\n",
              "    </tr>\n",
              "    <tr>\n",
              "      <th>8</th>\n",
              "      <td>A8</td>\n",
              "      <td>B8</td>\n",
              "      <td>C8</td>\n",
              "      <td>D8</td>\n",
              "    </tr>\n",
              "    <tr>\n",
              "      <th>9</th>\n",
              "      <td>A9</td>\n",
              "      <td>B9</td>\n",
              "      <td>C9</td>\n",
              "      <td>D9</td>\n",
              "    </tr>\n",
              "    <tr>\n",
              "      <th>10</th>\n",
              "      <td>A10</td>\n",
              "      <td>B10</td>\n",
              "      <td>C10</td>\n",
              "      <td>D10</td>\n",
              "    </tr>\n",
              "    <tr>\n",
              "      <th>11</th>\n",
              "      <td>A11</td>\n",
              "      <td>B11</td>\n",
              "      <td>C11</td>\n",
              "      <td>D11</td>\n",
              "    </tr>\n",
              "  </tbody>\n",
              "</table>\n",
              "</div>"
            ],
            "text/plain": [
              "      A    B    C    D\n",
              "0    A0   B0   C0   D0\n",
              "1    A1   B1   C1   D1\n",
              "2    A2   B2   C2   D2\n",
              "3    A3   B3   C3   D3\n",
              "4    A4   B4   C4   D4\n",
              "5    A5   B5   C5   D5\n",
              "6    A6   B6   C6   D6\n",
              "7    A7   B7   C7   D7\n",
              "8    A8   B8   C8   D8\n",
              "9    A9   B9   C9   D9\n",
              "10  A10  B10  C10  D10\n",
              "11  A11  B11  C11  D11"
            ]
          },
          "execution_count": 10,
          "metadata": {},
          "output_type": "execute_result"
        }
      ],
      "source": [
        "df1 = pd.DataFrame({'A': ['A0', 'A1', 'A2', 'A3'],\n",
        "                    'B': ['B0', 'B1', 'B2', 'B3'],\n",
        "                    'C': ['C0', 'C1', 'C2', 'C3'],\n",
        "                    'D': ['D0', 'D1', 'D2', 'D3']},\n",
        "                    index=[0, 1, 2, 3])\n",
        "\n",
        "df2 = pd.DataFrame({'A': ['A4', 'A5', 'A6', 'A7'],\n",
        "                    'B': ['B4', 'B5', 'B6', 'B7'],\n",
        "                    'C': ['C4', 'C5', 'C6', 'C7'],\n",
        "                    'D': ['D4', 'D5', 'D6', 'D7']},\n",
        "                    index=[4, 5, 6, 7])\n",
        "\n",
        "df3 = pd.DataFrame({'A': ['A8', 'A9', 'A10', 'A11'],\n",
        "                    'B': ['B8', 'B9', 'B10', 'B11'],\n",
        "                    'C': ['C8', 'C9', 'C10', 'C11'],\n",
        "                    'D': ['D8', 'D9', 'D10', 'D11']},\n",
        "                    index=[8, 9, 10, 11])\n",
        "\n",
        "df4 = pd.DataFrame({'B': ['B2', 'B3', 'B6', 'B7'],\n",
        "                    'D': ['D2', 'D3', 'D6', 'D7'],\n",
        "                    'F': ['F2', 'F3', 'F6', 'F7']},\n",
        "                    index=[2, 3, 6, 7])\n",
        "\n",
        "result = pd.concat([df1, df2, df3])\n",
        "result"
      ]
    },
    {
      "cell_type": "markdown",
      "metadata": {
        "id": "WyP88-rboYUH"
      },
      "source": [
        "Supongamos que quisiéramos asociar claves específicas con cada una de las piezas del DataFrame cortado. Podemos hacer esto usando el argumento claves:"
      ]
    },
    {
      "cell_type": "code",
      "execution_count": 11,
      "metadata": {
        "colab": {
          "base_uri": "https://localhost:8080/",
          "height": 426
        },
        "id": "dRtYWmfnoJcV",
        "outputId": "fcb60855-339a-4938-a233-c9883de52b4d"
      },
      "outputs": [
        {
          "data": {
            "text/html": [
              "<div>\n",
              "<style scoped>\n",
              "    .dataframe tbody tr th:only-of-type {\n",
              "        vertical-align: middle;\n",
              "    }\n",
              "\n",
              "    .dataframe tbody tr th {\n",
              "        vertical-align: top;\n",
              "    }\n",
              "\n",
              "    .dataframe thead th {\n",
              "        text-align: right;\n",
              "    }\n",
              "</style>\n",
              "<table border=\"1\" class=\"dataframe\">\n",
              "  <thead>\n",
              "    <tr style=\"text-align: right;\">\n",
              "      <th></th>\n",
              "      <th></th>\n",
              "      <th>A</th>\n",
              "      <th>B</th>\n",
              "      <th>C</th>\n",
              "      <th>D</th>\n",
              "    </tr>\n",
              "  </thead>\n",
              "  <tbody>\n",
              "    <tr>\n",
              "      <th rowspan=\"4\" valign=\"top\">x</th>\n",
              "      <th>0</th>\n",
              "      <td>A0</td>\n",
              "      <td>B0</td>\n",
              "      <td>C0</td>\n",
              "      <td>D0</td>\n",
              "    </tr>\n",
              "    <tr>\n",
              "      <th>1</th>\n",
              "      <td>A1</td>\n",
              "      <td>B1</td>\n",
              "      <td>C1</td>\n",
              "      <td>D1</td>\n",
              "    </tr>\n",
              "    <tr>\n",
              "      <th>2</th>\n",
              "      <td>A2</td>\n",
              "      <td>B2</td>\n",
              "      <td>C2</td>\n",
              "      <td>D2</td>\n",
              "    </tr>\n",
              "    <tr>\n",
              "      <th>3</th>\n",
              "      <td>A3</td>\n",
              "      <td>B3</td>\n",
              "      <td>C3</td>\n",
              "      <td>D3</td>\n",
              "    </tr>\n",
              "    <tr>\n",
              "      <th rowspan=\"4\" valign=\"top\">y</th>\n",
              "      <th>4</th>\n",
              "      <td>A4</td>\n",
              "      <td>B4</td>\n",
              "      <td>C4</td>\n",
              "      <td>D4</td>\n",
              "    </tr>\n",
              "    <tr>\n",
              "      <th>5</th>\n",
              "      <td>A5</td>\n",
              "      <td>B5</td>\n",
              "      <td>C5</td>\n",
              "      <td>D5</td>\n",
              "    </tr>\n",
              "    <tr>\n",
              "      <th>6</th>\n",
              "      <td>A6</td>\n",
              "      <td>B6</td>\n",
              "      <td>C6</td>\n",
              "      <td>D6</td>\n",
              "    </tr>\n",
              "    <tr>\n",
              "      <th>7</th>\n",
              "      <td>A7</td>\n",
              "      <td>B7</td>\n",
              "      <td>C7</td>\n",
              "      <td>D7</td>\n",
              "    </tr>\n",
              "    <tr>\n",
              "      <th rowspan=\"4\" valign=\"top\">z</th>\n",
              "      <th>8</th>\n",
              "      <td>A8</td>\n",
              "      <td>B8</td>\n",
              "      <td>C8</td>\n",
              "      <td>D8</td>\n",
              "    </tr>\n",
              "    <tr>\n",
              "      <th>9</th>\n",
              "      <td>A9</td>\n",
              "      <td>B9</td>\n",
              "      <td>C9</td>\n",
              "      <td>D9</td>\n",
              "    </tr>\n",
              "    <tr>\n",
              "      <th>10</th>\n",
              "      <td>A10</td>\n",
              "      <td>B10</td>\n",
              "      <td>C10</td>\n",
              "      <td>D10</td>\n",
              "    </tr>\n",
              "    <tr>\n",
              "      <th>11</th>\n",
              "      <td>A11</td>\n",
              "      <td>B11</td>\n",
              "      <td>C11</td>\n",
              "      <td>D11</td>\n",
              "    </tr>\n",
              "  </tbody>\n",
              "</table>\n",
              "</div>"
            ],
            "text/plain": [
              "        A    B    C    D\n",
              "x 0    A0   B0   C0   D0\n",
              "  1    A1   B1   C1   D1\n",
              "  2    A2   B2   C2   D2\n",
              "  3    A3   B3   C3   D3\n",
              "y 4    A4   B4   C4   D4\n",
              "  5    A5   B5   C5   D5\n",
              "  6    A6   B6   C6   D6\n",
              "  7    A7   B7   C7   D7\n",
              "z 8    A8   B8   C8   D8\n",
              "  9    A9   B9   C9   D9\n",
              "  10  A10  B10  C10  D10\n",
              "  11  A11  B11  C11  D11"
            ]
          },
          "execution_count": 11,
          "metadata": {},
          "output_type": "execute_result"
        }
      ],
      "source": [
        "# concatenación creando nuevas claves\n",
        "# equivalente pd.concat({'x': df1, 'y': df2, 'z': df3})\n",
        "result = pd.concat([df1, df2, df3], keys=['x', 'y', 'z'])\n",
        "result"
      ]
    },
    {
      "cell_type": "code",
      "execution_count": 12,
      "metadata": {
        "colab": {
          "base_uri": "https://localhost:8080/",
          "height": 300
        },
        "id": "LiJ6lxveobKw",
        "outputId": "e366cec8-92d9-44f0-955e-9589797e87f7"
      },
      "outputs": [
        {
          "data": {
            "text/html": [
              "<div>\n",
              "<style scoped>\n",
              "    .dataframe tbody tr th:only-of-type {\n",
              "        vertical-align: middle;\n",
              "    }\n",
              "\n",
              "    .dataframe tbody tr th {\n",
              "        vertical-align: top;\n",
              "    }\n",
              "\n",
              "    .dataframe thead th {\n",
              "        text-align: right;\n",
              "    }\n",
              "</style>\n",
              "<table border=\"1\" class=\"dataframe\">\n",
              "  <thead>\n",
              "    <tr style=\"text-align: right;\">\n",
              "      <th></th>\n",
              "      <th>A</th>\n",
              "      <th>B</th>\n",
              "      <th>C</th>\n",
              "      <th>D</th>\n",
              "      <th>F</th>\n",
              "    </tr>\n",
              "  </thead>\n",
              "  <tbody>\n",
              "    <tr>\n",
              "      <th>0</th>\n",
              "      <td>A0</td>\n",
              "      <td>B0</td>\n",
              "      <td>C0</td>\n",
              "      <td>D0</td>\n",
              "      <td>NaN</td>\n",
              "    </tr>\n",
              "    <tr>\n",
              "      <th>1</th>\n",
              "      <td>A1</td>\n",
              "      <td>B1</td>\n",
              "      <td>C1</td>\n",
              "      <td>D1</td>\n",
              "      <td>NaN</td>\n",
              "    </tr>\n",
              "    <tr>\n",
              "      <th>2</th>\n",
              "      <td>A2</td>\n",
              "      <td>B2</td>\n",
              "      <td>C2</td>\n",
              "      <td>D2</td>\n",
              "      <td>NaN</td>\n",
              "    </tr>\n",
              "    <tr>\n",
              "      <th>3</th>\n",
              "      <td>A3</td>\n",
              "      <td>B3</td>\n",
              "      <td>C3</td>\n",
              "      <td>D3</td>\n",
              "      <td>NaN</td>\n",
              "    </tr>\n",
              "    <tr>\n",
              "      <th>4</th>\n",
              "      <td>NaN</td>\n",
              "      <td>B2</td>\n",
              "      <td>NaN</td>\n",
              "      <td>D2</td>\n",
              "      <td>F2</td>\n",
              "    </tr>\n",
              "    <tr>\n",
              "      <th>5</th>\n",
              "      <td>NaN</td>\n",
              "      <td>B3</td>\n",
              "      <td>NaN</td>\n",
              "      <td>D3</td>\n",
              "      <td>F3</td>\n",
              "    </tr>\n",
              "    <tr>\n",
              "      <th>6</th>\n",
              "      <td>NaN</td>\n",
              "      <td>B6</td>\n",
              "      <td>NaN</td>\n",
              "      <td>D6</td>\n",
              "      <td>F6</td>\n",
              "    </tr>\n",
              "    <tr>\n",
              "      <th>7</th>\n",
              "      <td>NaN</td>\n",
              "      <td>B7</td>\n",
              "      <td>NaN</td>\n",
              "      <td>D7</td>\n",
              "      <td>F7</td>\n",
              "    </tr>\n",
              "  </tbody>\n",
              "</table>\n",
              "</div>"
            ],
            "text/plain": [
              "     A   B    C   D    F\n",
              "0   A0  B0   C0  D0  NaN\n",
              "1   A1  B1   C1  D1  NaN\n",
              "2   A2  B2   C2  D2  NaN\n",
              "3   A3  B3   C3  D3  NaN\n",
              "4  NaN  B2  NaN  D2   F2\n",
              "5  NaN  B3  NaN  D3   F3\n",
              "6  NaN  B6  NaN  D6   F6\n",
              "7  NaN  B7  NaN  D7   F7"
            ]
          },
          "execution_count": 12,
          "metadata": {},
          "output_type": "execute_result"
        }
      ],
      "source": [
        "result = pd.concat([df1, df4], ignore_index=True, sort=False)\n",
        "result"
      ]
    },
    {
      "cell_type": "code",
      "execution_count": 13,
      "metadata": {
        "colab": {
          "base_uri": "https://localhost:8080/",
          "height": 238
        },
        "id": "mtmNWkWPp3uE",
        "outputId": "5f77c46d-bf7a-44c7-9cbf-e2b520114bcb"
      },
      "outputs": [
        {
          "data": {
            "text/html": [
              "<div>\n",
              "<style scoped>\n",
              "    .dataframe tbody tr th:only-of-type {\n",
              "        vertical-align: middle;\n",
              "    }\n",
              "\n",
              "    .dataframe tbody tr th {\n",
              "        vertical-align: top;\n",
              "    }\n",
              "\n",
              "    .dataframe thead th {\n",
              "        text-align: right;\n",
              "    }\n",
              "</style>\n",
              "<table border=\"1\" class=\"dataframe\">\n",
              "  <thead>\n",
              "    <tr style=\"text-align: right;\">\n",
              "      <th></th>\n",
              "      <th>A</th>\n",
              "      <th>B</th>\n",
              "      <th>C</th>\n",
              "      <th>D</th>\n",
              "      <th>B</th>\n",
              "      <th>D</th>\n",
              "      <th>F</th>\n",
              "    </tr>\n",
              "  </thead>\n",
              "  <tbody>\n",
              "    <tr>\n",
              "      <th>0</th>\n",
              "      <td>A0</td>\n",
              "      <td>B0</td>\n",
              "      <td>C0</td>\n",
              "      <td>D0</td>\n",
              "      <td>NaN</td>\n",
              "      <td>NaN</td>\n",
              "      <td>NaN</td>\n",
              "    </tr>\n",
              "    <tr>\n",
              "      <th>1</th>\n",
              "      <td>A1</td>\n",
              "      <td>B1</td>\n",
              "      <td>C1</td>\n",
              "      <td>D1</td>\n",
              "      <td>NaN</td>\n",
              "      <td>NaN</td>\n",
              "      <td>NaN</td>\n",
              "    </tr>\n",
              "    <tr>\n",
              "      <th>2</th>\n",
              "      <td>A2</td>\n",
              "      <td>B2</td>\n",
              "      <td>C2</td>\n",
              "      <td>D2</td>\n",
              "      <td>B2</td>\n",
              "      <td>D2</td>\n",
              "      <td>F2</td>\n",
              "    </tr>\n",
              "    <tr>\n",
              "      <th>3</th>\n",
              "      <td>A3</td>\n",
              "      <td>B3</td>\n",
              "      <td>C3</td>\n",
              "      <td>D3</td>\n",
              "      <td>B3</td>\n",
              "      <td>D3</td>\n",
              "      <td>F3</td>\n",
              "    </tr>\n",
              "    <tr>\n",
              "      <th>6</th>\n",
              "      <td>NaN</td>\n",
              "      <td>NaN</td>\n",
              "      <td>NaN</td>\n",
              "      <td>NaN</td>\n",
              "      <td>B6</td>\n",
              "      <td>D6</td>\n",
              "      <td>F6</td>\n",
              "    </tr>\n",
              "    <tr>\n",
              "      <th>7</th>\n",
              "      <td>NaN</td>\n",
              "      <td>NaN</td>\n",
              "      <td>NaN</td>\n",
              "      <td>NaN</td>\n",
              "      <td>B7</td>\n",
              "      <td>D7</td>\n",
              "      <td>F7</td>\n",
              "    </tr>\n",
              "  </tbody>\n",
              "</table>\n",
              "</div>"
            ],
            "text/plain": [
              "     A    B    C    D    B    D    F\n",
              "0   A0   B0   C0   D0  NaN  NaN  NaN\n",
              "1   A1   B1   C1   D1  NaN  NaN  NaN\n",
              "2   A2   B2   C2   D2   B2   D2   F2\n",
              "3   A3   B3   C3   D3   B3   D3   F3\n",
              "6  NaN  NaN  NaN  NaN   B6   D6   F6\n",
              "7  NaN  NaN  NaN  NaN   B7   D7   F7"
            ]
          },
          "execution_count": 13,
          "metadata": {},
          "output_type": "execute_result"
        }
      ],
      "source": [
        "result = pd.concat([df1, df4], axis=1, sort=False)\n",
        "result"
      ]
    },
    {
      "cell_type": "markdown",
      "metadata": {
        "id": "DMRQmcyNq8Ny"
      },
      "source": [
        "## Agrupación"
      ]
    },
    {
      "cell_type": "code",
      "execution_count": 14,
      "metadata": {
        "colab": {
          "base_uri": "https://localhost:8080/",
          "height": 175
        },
        "id": "2LuS7pTgq9bL",
        "outputId": "cc2a1db7-5fe7-4c13-dbea-0962398a3ebf"
      },
      "outputs": [
        {
          "data": {
            "text/html": [
              "<div>\n",
              "<style scoped>\n",
              "    .dataframe tbody tr th:only-of-type {\n",
              "        vertical-align: middle;\n",
              "    }\n",
              "\n",
              "    .dataframe tbody tr th {\n",
              "        vertical-align: top;\n",
              "    }\n",
              "\n",
              "    .dataframe thead th {\n",
              "        text-align: right;\n",
              "    }\n",
              "</style>\n",
              "<table border=\"1\" class=\"dataframe\">\n",
              "  <thead>\n",
              "    <tr style=\"text-align: right;\">\n",
              "      <th></th>\n",
              "      <th>animal</th>\n",
              "      <th>num_legs</th>\n",
              "      <th>num_wings</th>\n",
              "      <th>class</th>\n",
              "      <th>locomotion</th>\n",
              "    </tr>\n",
              "  </thead>\n",
              "  <tbody>\n",
              "    <tr>\n",
              "      <th>0</th>\n",
              "      <td>cat</td>\n",
              "      <td>4</td>\n",
              "      <td>0</td>\n",
              "      <td>mammal</td>\n",
              "      <td>walks</td>\n",
              "    </tr>\n",
              "    <tr>\n",
              "      <th>1</th>\n",
              "      <td>dog</td>\n",
              "      <td>4</td>\n",
              "      <td>0</td>\n",
              "      <td>mammal</td>\n",
              "      <td>walks</td>\n",
              "    </tr>\n",
              "    <tr>\n",
              "      <th>2</th>\n",
              "      <td>bat</td>\n",
              "      <td>2</td>\n",
              "      <td>2</td>\n",
              "      <td>mammal</td>\n",
              "      <td>flies</td>\n",
              "    </tr>\n",
              "    <tr>\n",
              "      <th>3</th>\n",
              "      <td>penguin</td>\n",
              "      <td>2</td>\n",
              "      <td>2</td>\n",
              "      <td>bird</td>\n",
              "      <td>walks</td>\n",
              "    </tr>\n",
              "  </tbody>\n",
              "</table>\n",
              "</div>"
            ],
            "text/plain": [
              "    animal  num_legs  num_wings   class locomotion\n",
              "0      cat         4          0  mammal      walks\n",
              "1      dog         4          0  mammal      walks\n",
              "2      bat         2          2  mammal      flies\n",
              "3  penguin         2          2    bird      walks"
            ]
          },
          "execution_count": 14,
          "metadata": {},
          "output_type": "execute_result"
        }
      ],
      "source": [
        "data = {'animal': ['cat', 'dog', 'bat', 'penguin'],\n",
        "'num_legs': [4, 4, 2, 2],\n",
        "'num_wings': [0, 0, 2, 2],\n",
        "'class': ['mammal', 'mammal', 'mammal', 'bird'],\n",
        "'locomotion': ['walks', 'walks', 'flies', 'walks']}\n",
        "animals = pd.DataFrame(data)\n",
        "animals"
      ]
    },
    {
      "cell_type": "code",
      "execution_count": 15,
      "metadata": {
        "colab": {
          "base_uri": "https://localhost:8080/"
        },
        "id": "lYiR2hIrspMm",
        "outputId": "7a75d233-3d31-40de-9f31-7a4175f4a8e3"
      },
      "outputs": [
        {
          "data": {
            "text/plain": [
              "{'bird': [3], 'mammal': [0, 1, 2]}"
            ]
          },
          "execution_count": 15,
          "metadata": {},
          "output_type": "execute_result"
        }
      ],
      "source": [
        "# por defecto axis=0\n",
        "grouped = animals.groupby('class')\n",
        "grouped.groups"
      ]
    },
    {
      "cell_type": "code",
      "execution_count": 16,
      "metadata": {
        "colab": {
          "base_uri": "https://localhost:8080/"
        },
        "id": "MsBsSlT3srll",
        "outputId": "d3e6506a-b849-448d-eae4-dd2f1287bf1c"
      },
      "outputs": [
        {
          "name": "stdout",
          "output_type": "stream",
          "text": [
            "Grupo: bird\n",
            "----------------------------------------\n",
            "    animal  num_legs  num_wings class locomotion\n",
            "3  penguin         2          2  bird      walks\n",
            "\n",
            "Grupo: mammal\n",
            "----------------------------------------\n",
            "  animal  num_legs  num_wings   class locomotion\n",
            "0    cat         4          0  mammal      walks\n",
            "1    dog         4          0  mammal      walks\n",
            "2    bat         2          2  mammal      flies\n",
            "\n"
          ]
        }
      ],
      "source": [
        "for name, group in grouped:\n",
        "  print('Grupo: ' + str(name))\n",
        "  print(\"-\" * 40)\n",
        "  print(group, end=\"\\n\\n\")"
      ]
    },
    {
      "cell_type": "code",
      "execution_count": 17,
      "metadata": {
        "id": "aUIUPuwHs3c7"
      },
      "outputs": [
        {
          "name": "stdout",
          "output_type": "stream",
          "text": [
            "<pandas.core.groupby.generic.DataFrameGroupBy object at 0x00000175AEBDCD60>\n"
          ]
        }
      ],
      "source": [
        "print(grouped)"
      ]
    },
    {
      "cell_type": "code",
      "execution_count": null,
      "metadata": {
        "colab": {
          "base_uri": "https://localhost:8080/",
          "height": 424
        },
        "id": "ehisy8rDtMSD",
        "outputId": "c94c3566-4eae-422d-f3af-82e20b8a0842"
      },
      "outputs": [],
      "source": []
    },
    {
      "cell_type": "code",
      "execution_count": null,
      "metadata": {
        "id": "7mG5XNXOtNDM"
      },
      "outputs": [],
      "source": []
    }
  ],
  "metadata": {
    "colab": {
      "collapsed_sections": [
        "s7XhiF3ieU70",
        "JhFnwj8TfGib",
        "0mz0lHw1oRzn"
      ],
      "provenance": []
    },
    "kernelspec": {
      "display_name": "Python 3.10.5 64-bit",
      "language": "python",
      "name": "python3"
    },
    "language_info": {
      "codemirror_mode": {
        "name": "ipython",
        "version": 3
      },
      "file_extension": ".py",
      "mimetype": "text/x-python",
      "name": "python",
      "nbconvert_exporter": "python",
      "pygments_lexer": "ipython3",
      "version": "3.10.5"
    },
    "vscode": {
      "interpreter": {
        "hash": "369f2c481f4da34e4445cda3fffd2e751bd1c4d706f27375911949ba6bb62e1c"
      }
    }
  },
  "nbformat": 4,
  "nbformat_minor": 0
}

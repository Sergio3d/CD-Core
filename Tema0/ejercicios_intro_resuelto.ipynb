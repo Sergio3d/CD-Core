{
  "cells": [
    {
      "cell_type": "code",
      "execution_count": 80,
      "metadata": {
        "id": "zuW9SAZIsXoK"
      },
      "outputs": [],
      "source": [
        "import numpy as np\n",
        "import pandas as pd"
      ]
    },
    {
      "cell_type": "markdown",
      "metadata": {
        "id": "vNJJAQVSqU0F"
      },
      "source": [
        "# Ejercicios de NumPy y pandas\n",
        "\n",
        "Estos ejercicios están pensados para que probéis de primera mano las capacidades de las librerías NumPy y pandas."
      ]
    },
    {
      "cell_type": "markdown",
      "metadata": {
        "id": "iUUKhLecq5gc"
      },
      "source": [
        "## Ejercicios de NumPy"
      ]
    },
    {
      "cell_type": "markdown",
      "metadata": {
        "id": "IIc-xukPq7Lp"
      },
      "source": [
        "### 1 - Creación de arrays\n",
        "\n",
        "a) Crea un array vacío en numpy de dimensiones 3×6"
      ]
    },
    {
      "cell_type": "code",
      "execution_count": 81,
      "metadata": {
        "colab": {
          "base_uri": "https://localhost:8080/"
        },
        "id": "7ae7FAVYqRCI",
        "outputId": "0ce5a1e6-94e5-4d28-8ec6-6fca6f9b078b"
      },
      "outputs": [
        {
          "data": {
            "text/plain": [
              "array([[0., 0., 0., 0., 0., 0.],\n",
              "       [0., 0., 0., 0., 0., 0.],\n",
              "       [0., 0., 0., 0., 0., 0.]])"
            ]
          },
          "execution_count": 81,
          "metadata": {},
          "output_type": "execute_result"
        }
      ],
      "source": [
        "array = np.empty([3,6])\n",
        "array"
      ]
    },
    {
      "cell_type": "markdown",
      "metadata": {
        "id": "GuIkBbobscuW"
      },
      "source": [
        "b) Repite el apartado a, pero llénalo con un número, como por ejemplo el `0`."
      ]
    },
    {
      "cell_type": "code",
      "execution_count": 82,
      "metadata": {
        "colab": {
          "base_uri": "https://localhost:8080/"
        },
        "id": "w79FhgCnsXIx",
        "outputId": "e2c437e8-5e84-4a73-c567-417e723da1d2"
      },
      "outputs": [
        {
          "name": "stdout",
          "output_type": "stream",
          "text": [
            "[[0. 0. 0. 0. 0. 0.]\n",
            " [0. 0. 0. 0. 0. 0.]\n",
            " [0. 0. 0. 0. 0. 0.]]\n"
          ]
        },
        {
          "data": {
            "text/plain": [
              "array([[0., 0., 0., 0., 0., 0.],\n",
              "       [0., 0., 0., 0., 0., 0.],\n",
              "       [0., 0., 0., 0., 0., 0.]])"
            ]
          },
          "execution_count": 82,
          "metadata": {},
          "output_type": "execute_result"
        }
      ],
      "source": [
        "zeros = np.zeros([3,6])\n",
        "print(zeros)\n",
        "\n",
        "array0 = np.empty([3,6])\n",
        "array0.fill(0)\n",
        "array0"
      ]
    },
    {
      "cell_type": "markdown",
      "metadata": {
        "id": "PjT9pLcRs_0d"
      },
      "source": [
        "### 2 - Comprobación de valores en un array\n",
        "\n",
        "Dado el array `arr`:"
      ]
    },
    {
      "cell_type": "code",
      "execution_count": 83,
      "metadata": {
        "id": "Yr66dfW5tlqy"
      },
      "outputs": [],
      "source": [
        "arr = np.array([[5, 2, 0],\n",
        "                [4, 3, 7]])"
      ]
    },
    {
      "cell_type": "markdown",
      "metadata": {
        "id": "ZO0zpTt-tp1t"
      },
      "source": [
        "a) Comprueba con `numpy` si contiene el número 6"
      ]
    },
    {
      "cell_type": "code",
      "execution_count": 84,
      "metadata": {
        "colab": {
          "base_uri": "https://localhost:8080/"
        },
        "id": "_yCQUDVFsjR_",
        "outputId": "fff67b0b-2c56-47c3-d46d-45011f41e18f"
      },
      "outputs": [
        {
          "data": {
            "text/plain": [
              "False"
            ]
          },
          "execution_count": 84,
          "metadata": {},
          "output_type": "execute_result"
        }
      ],
      "source": [
        "6 in arr"
      ]
    },
    {
      "cell_type": "markdown",
      "metadata": {
        "id": "LBZAydyqv3Fz"
      },
      "source": [
        "b) Comprueba con `numpy` si contiene el número 4"
      ]
    },
    {
      "cell_type": "code",
      "execution_count": 85,
      "metadata": {
        "colab": {
          "base_uri": "https://localhost:8080/"
        },
        "id": "pLZBIhaRv1yK",
        "outputId": "bf67fd38-b4c6-4cbb-a927-1b2cf42e5a35"
      },
      "outputs": [
        {
          "data": {
            "text/plain": [
              "True"
            ]
          },
          "execution_count": 85,
          "metadata": {},
          "output_type": "execute_result"
        }
      ],
      "source": [
        "4 in arr"
      ]
    },
    {
      "cell_type": "markdown",
      "metadata": {
        "id": "Zvv3DD3qwD8A"
      },
      "source": [
        "### 3 - Operaciones con numpy arrays"
      ]
    },
    {
      "cell_type": "markdown",
      "metadata": {
        "id": "IcmcwebAwOnm"
      },
      "source": [
        "a) Reduce la siguiente matriz (array de 2 dimensiones) a una dimensión:"
      ]
    },
    {
      "cell_type": "code",
      "execution_count": 86,
      "metadata": {
        "colab": {
          "base_uri": "https://localhost:8080/"
        },
        "id": "a1JmssC4wJTg",
        "outputId": "3fe93c91-31e8-4f7d-f087-041afefd8890"
      },
      "outputs": [
        {
          "name": "stdout",
          "output_type": "stream",
          "text": [
            "Array bidimensional:\n",
            " [2 3 4 5]\n",
            "\n"
          ]
        }
      ],
      "source": [
        "mat = np.array([[2, 3], [4, 5]])\n",
        "\n",
        "row0 = mat[0]\n",
        "row1 = mat[1]\n",
        "\n",
        "mat = np.concatenate([row0, row1])\n",
        "print(f\"Array bidimensional:\\n {mat}\\n\")"
      ]
    },
    {
      "cell_type": "markdown",
      "metadata": {
        "id": "jt4vlpvSw_Ul"
      },
      "source": [
        "b) Dados los vectores (arrays de 1 dimensión) `v_a` y `v_b`, calcula, **SIN USAR BUCLES**:\n",
        "- `v_a` + `v_b` (elemento a elemento)\n",
        "- `v_a` * `v_b` (elemento a elemento)\n",
        "- Su producto escalar (dot product)   "
      ]
    },
    {
      "cell_type": "code",
      "execution_count": 87,
      "metadata": {
        "colab": {
          "base_uri": "https://localhost:8080/"
        },
        "id": "mM1Q6Ei6wXdO",
        "outputId": "1cb7c5f5-3fa1-4266-a018-f306edb1b280"
      },
      "outputs": [],
      "source": [
        "v_a = np.array([6, 9, 12])\n",
        "v_b = np.array([8, 5, 2])"
      ]
    },
    {
      "cell_type": "code",
      "execution_count": 88,
      "metadata": {
        "id": "ia6HUpwwxur1"
      },
      "outputs": [
        {
          "name": "stdout",
          "output_type": "stream",
          "text": [
            "[14 14 14]\n",
            "[48 45 24]\n",
            "117\n"
          ]
        }
      ],
      "source": [
        "print(v_a+v_b)\n",
        "print(v_a*v_b)\n",
        "print(np.dot(v_a,v_b))"
      ]
    },
    {
      "cell_type": "markdown",
      "metadata": {
        "id": "48B6RRgIyr0a"
      },
      "source": [
        "## Ejercicios de pandas\n",
        "\n",
        "Trabajaremos sobre un ejemplo de `DataFrame` que contiene datos sobre pilotos de fórmula 1.\n",
        "\n",
        "Contamos con los siguientes datos:\n",
        "\n",
        "|   Driver Name   | Number of Victories |  Country   |\n",
        "|:---------------:|:-------------------:|:----------:|\n",
        "|    Hamilton     |         103         |     UK     |\n",
        "|   Schumacher    |         91          |  Germany   |\n",
        "|    Raikkonen    |         26          |  Finland   |\n",
        "|     Alonso      |         32          |   Spain    |\n",
        "|     Vettel      |         53          |  Germany   |\n",
        "|      Sainz      |         2           |   Spain    |\n",
        "|    Hakkinen     |         20          |  Finland   |\n",
        "|      Senna      |         41          |  Brazil    |\n",
        "|   Verstappen    |         54          |Netherlands|\n",
        "|   Fittipaldi    |         14          |  Brazil    |"
      ]
    },
    {
      "cell_type": "markdown",
      "metadata": {
        "id": "dVeJUl3jyxNB"
      },
      "source": [
        "### 1 - Creación de DataFrames\n",
        "\n",
        "Empezaremos creando un dataframe sobre el que operar fijándonos en el DataFrame del ejemplo anterior.\n",
        "\n",
        "Dada la siguiente lista bidimensional (matriz) y el array de nombres de columnas, crea el DataFrame mencionado anteriormente con `pandas`:"
      ]
    },
    {
      "cell_type": "code",
      "execution_count": 89,
      "metadata": {
        "colab": {
          "base_uri": "https://localhost:8080/",
          "height": 426
        },
        "id": "8l7ms-OzytVo",
        "outputId": "d4b2568e-55f1-43da-c811-dec6a1ea4b40"
      },
      "outputs": [],
      "source": [
        "drivers = [['Hamilton', 103, 'UK'], ['Schumacher', 91, 'Germany'],\n",
        "           ['Raikkonen', 26, 'Finland'], ['Alonso', 32, 'Spain'],\n",
        "           ['Vettel', 53, 'Germany'], ['Sainz', 2, 'Spain'],\n",
        "           ['Hakkinen', 20, 'Finland'], ['Senna', 41, 'Brazil'],\n",
        "           ['Verstappen', 54, 'Netherlands'], ['Fittipaldi', 14, 'Brazil'],     # Sí, Fittipaldi existe\n",
        "           [None, None, None], ['Sainz', 2, 'Spain']]\n",
        "\n",
        "column_names = ['Driver Name', 'Number of Victories', 'Country']"
      ]
    },
    {
      "cell_type": "markdown",
      "metadata": {
        "id": "vYVNUlhV4UWt"
      },
      "source": [
        "### 2 - Selección de filas basada en condiciones\n",
        "\n",
        "- *Anotación: puedes obtener los resultados de estos apartados en el formato que prefieras, no importa si es array o dataframe*"
      ]
    },
    {
      "cell_type": "code",
      "execution_count": 90,
      "metadata": {
        "colab": {
          "base_uri": "https://localhost:8080/"
        },
        "id": "9Hr3fNw42T2C",
        "outputId": "cb2141ef-916e-4c1c-fbab-87c82fab348e"
      },
      "outputs": [
        {
          "data": {
            "text/html": [
              "<div>\n",
              "<style scoped>\n",
              "    .dataframe tbody tr th:only-of-type {\n",
              "        vertical-align: middle;\n",
              "    }\n",
              "\n",
              "    .dataframe tbody tr th {\n",
              "        vertical-align: top;\n",
              "    }\n",
              "\n",
              "    .dataframe thead th {\n",
              "        text-align: right;\n",
              "    }\n",
              "</style>\n",
              "<table border=\"1\" class=\"dataframe\">\n",
              "  <thead>\n",
              "    <tr style=\"text-align: right;\">\n",
              "      <th></th>\n",
              "      <th>Driver Name</th>\n",
              "      <th>Number of Victories</th>\n",
              "      <th>Country</th>\n",
              "    </tr>\n",
              "  </thead>\n",
              "  <tbody>\n",
              "    <tr>\n",
              "      <th>0</th>\n",
              "      <td>Hamilton</td>\n",
              "      <td>103.0</td>\n",
              "      <td>UK</td>\n",
              "    </tr>\n",
              "    <tr>\n",
              "      <th>1</th>\n",
              "      <td>Schumacher</td>\n",
              "      <td>91.0</td>\n",
              "      <td>Germany</td>\n",
              "    </tr>\n",
              "    <tr>\n",
              "      <th>2</th>\n",
              "      <td>Raikkonen</td>\n",
              "      <td>26.0</td>\n",
              "      <td>Finland</td>\n",
              "    </tr>\n",
              "    <tr>\n",
              "      <th>3</th>\n",
              "      <td>Alonso</td>\n",
              "      <td>32.0</td>\n",
              "      <td>Spain</td>\n",
              "    </tr>\n",
              "    <tr>\n",
              "      <th>4</th>\n",
              "      <td>Vettel</td>\n",
              "      <td>53.0</td>\n",
              "      <td>Germany</td>\n",
              "    </tr>\n",
              "    <tr>\n",
              "      <th>5</th>\n",
              "      <td>Sainz</td>\n",
              "      <td>2.0</td>\n",
              "      <td>Spain</td>\n",
              "    </tr>\n",
              "    <tr>\n",
              "      <th>6</th>\n",
              "      <td>Hakkinen</td>\n",
              "      <td>20.0</td>\n",
              "      <td>Finland</td>\n",
              "    </tr>\n",
              "    <tr>\n",
              "      <th>7</th>\n",
              "      <td>Senna</td>\n",
              "      <td>41.0</td>\n",
              "      <td>Brazil</td>\n",
              "    </tr>\n",
              "    <tr>\n",
              "      <th>8</th>\n",
              "      <td>Verstappen</td>\n",
              "      <td>54.0</td>\n",
              "      <td>Netherlands</td>\n",
              "    </tr>\n",
              "    <tr>\n",
              "      <th>9</th>\n",
              "      <td>Fittipaldi</td>\n",
              "      <td>14.0</td>\n",
              "      <td>Brazil</td>\n",
              "    </tr>\n",
              "    <tr>\n",
              "      <th>10</th>\n",
              "      <td>None</td>\n",
              "      <td>NaN</td>\n",
              "      <td>None</td>\n",
              "    </tr>\n",
              "  </tbody>\n",
              "</table>\n",
              "</div>"
            ],
            "text/plain": [
              "   Driver Name  Number of Victories      Country\n",
              "0     Hamilton                103.0           UK\n",
              "1   Schumacher                 91.0      Germany\n",
              "2    Raikkonen                 26.0      Finland\n",
              "3       Alonso                 32.0        Spain\n",
              "4       Vettel                 53.0      Germany\n",
              "5        Sainz                  2.0        Spain\n",
              "6     Hakkinen                 20.0      Finland\n",
              "7        Senna                 41.0       Brazil\n",
              "8   Verstappen                 54.0  Netherlands\n",
              "9   Fittipaldi                 14.0       Brazil\n",
              "10        None                  NaN         None"
            ]
          },
          "execution_count": 90,
          "metadata": {},
          "output_type": "execute_result"
        }
      ],
      "source": [
        "f1 = pd.DataFrame(drivers, columns=column_names)\n",
        "f1 = f1.drop_duplicates()\n",
        "f1"
      ]
    },
    {
      "cell_type": "markdown",
      "metadata": {
        "id": "7TCO0dNK4XIG"
      },
      "source": [
        "a) ¿Qué piloto tiene el mayor número de victorias? ¿Y el menor?\n",
        "\n",
        "- *Pista: puedes usar los métodos idxmax e idxmin*\n",
        "\n",
        "\n"
      ]
    },
    {
      "cell_type": "code",
      "execution_count": 91,
      "metadata": {},
      "outputs": [
        {
          "name": "stdout",
          "output_type": "stream",
          "text": [
            "0    Hamilton\n",
            "Name: Driver Name, dtype: object\n",
            "5    Sainz\n",
            "Name: Driver Name, dtype: object\n"
          ]
        }
      ],
      "source": [
        "print(f1[f1['Number of Victories']==f1['Number of Victories'].max()]['Driver Name'])\n",
        "print(f1[f1['Number of Victories']==f1['Number of Victories'].min()]['Driver Name'])"
      ]
    },
    {
      "cell_type": "markdown",
      "metadata": {
        "id": "rh1axHC-4bNM"
      },
      "source": [
        "b) Obtén los pilotos con más de 20 victorias."
      ]
    },
    {
      "cell_type": "code",
      "execution_count": 92,
      "metadata": {
        "colab": {
          "base_uri": "https://localhost:8080/"
        },
        "id": "ECLyebOS4eeb",
        "outputId": "4c780e5a-72d8-4802-ce34-299137edf0e0"
      },
      "outputs": [
        {
          "data": {
            "text/plain": [
              "0      Hamilton\n",
              "1    Schumacher\n",
              "2     Raikkonen\n",
              "3        Alonso\n",
              "4        Vettel\n",
              "7         Senna\n",
              "8    Verstappen\n",
              "Name: Driver Name, dtype: object"
            ]
          },
          "execution_count": 92,
          "metadata": {},
          "output_type": "execute_result"
        }
      ],
      "source": [
        "f1[f1['Number of Victories']>20]['Driver Name']"
      ]
    },
    {
      "cell_type": "markdown",
      "metadata": {
        "id": "m7G7zPkc69yw"
      },
      "source": [
        "c) ¿Cuántos pilotos finlandeses hay?"
      ]
    },
    {
      "cell_type": "code",
      "execution_count": 93,
      "metadata": {
        "colab": {
          "base_uri": "https://localhost:8080/"
        },
        "id": "UIuV-ysL7ABy",
        "outputId": "fa76602c-5786-4647-bf08-c39e11a6b25b"
      },
      "outputs": [
        {
          "data": {
            "text/plain": [
              "2"
            ]
          },
          "execution_count": 93,
          "metadata": {},
          "output_type": "execute_result"
        }
      ],
      "source": [
        "f1[f1['Country']=='Finland']['Driver Name'].count()"
      ]
    },
    {
      "cell_type": "markdown",
      "metadata": {
        "id": "WkBpC_uK30WC"
      },
      "source": [
        "### 3 - Una pequeña introducción a limpieza de datos\n",
        "\n",
        "Vaya... Parece que se han colado valores nulos en nuestro DataFrame. De esta forma no podremos operar con él en el futuro, vamos a hacer una pequeña limpieza en dos pasos.\n",
        "\n",
        "\n",
        "*Importante: Esto es un pequeño adelanto del tema de preprocesamiento, así que os daremos alguna pista*"
      ]
    },
    {
      "cell_type": "markdown",
      "metadata": {
        "id": "xavcfFnW4v8H"
      },
      "source": [
        "a) Empecemos eliminando los valores nulos por ser los más problemáticos. Podríamos usar el método `dropna` de pandas."
      ]
    },
    {
      "cell_type": "code",
      "execution_count": 94,
      "metadata": {
        "colab": {
          "base_uri": "https://localhost:8080/",
          "height": 394
        },
        "id": "nSA6H-K3403G",
        "outputId": "11081013-17a0-41e1-efc4-51efd330b678"
      },
      "outputs": [
        {
          "data": {
            "text/html": [
              "<div>\n",
              "<style scoped>\n",
              "    .dataframe tbody tr th:only-of-type {\n",
              "        vertical-align: middle;\n",
              "    }\n",
              "\n",
              "    .dataframe tbody tr th {\n",
              "        vertical-align: top;\n",
              "    }\n",
              "\n",
              "    .dataframe thead th {\n",
              "        text-align: right;\n",
              "    }\n",
              "</style>\n",
              "<table border=\"1\" class=\"dataframe\">\n",
              "  <thead>\n",
              "    <tr style=\"text-align: right;\">\n",
              "      <th></th>\n",
              "      <th>Driver Name</th>\n",
              "      <th>Number of Victories</th>\n",
              "      <th>Country</th>\n",
              "    </tr>\n",
              "  </thead>\n",
              "  <tbody>\n",
              "    <tr>\n",
              "      <th>0</th>\n",
              "      <td>Hamilton</td>\n",
              "      <td>103.0</td>\n",
              "      <td>UK</td>\n",
              "    </tr>\n",
              "    <tr>\n",
              "      <th>1</th>\n",
              "      <td>Schumacher</td>\n",
              "      <td>91.0</td>\n",
              "      <td>Germany</td>\n",
              "    </tr>\n",
              "    <tr>\n",
              "      <th>2</th>\n",
              "      <td>Raikkonen</td>\n",
              "      <td>26.0</td>\n",
              "      <td>Finland</td>\n",
              "    </tr>\n",
              "    <tr>\n",
              "      <th>3</th>\n",
              "      <td>Alonso</td>\n",
              "      <td>32.0</td>\n",
              "      <td>Spain</td>\n",
              "    </tr>\n",
              "    <tr>\n",
              "      <th>4</th>\n",
              "      <td>Vettel</td>\n",
              "      <td>53.0</td>\n",
              "      <td>Germany</td>\n",
              "    </tr>\n",
              "    <tr>\n",
              "      <th>5</th>\n",
              "      <td>Sainz</td>\n",
              "      <td>2.0</td>\n",
              "      <td>Spain</td>\n",
              "    </tr>\n",
              "    <tr>\n",
              "      <th>6</th>\n",
              "      <td>Hakkinen</td>\n",
              "      <td>20.0</td>\n",
              "      <td>Finland</td>\n",
              "    </tr>\n",
              "    <tr>\n",
              "      <th>7</th>\n",
              "      <td>Senna</td>\n",
              "      <td>41.0</td>\n",
              "      <td>Brazil</td>\n",
              "    </tr>\n",
              "    <tr>\n",
              "      <th>8</th>\n",
              "      <td>Verstappen</td>\n",
              "      <td>54.0</td>\n",
              "      <td>Netherlands</td>\n",
              "    </tr>\n",
              "    <tr>\n",
              "      <th>9</th>\n",
              "      <td>Fittipaldi</td>\n",
              "      <td>14.0</td>\n",
              "      <td>Brazil</td>\n",
              "    </tr>\n",
              "  </tbody>\n",
              "</table>\n",
              "</div>"
            ],
            "text/plain": [
              "  Driver Name  Number of Victories      Country\n",
              "0    Hamilton                103.0           UK\n",
              "1  Schumacher                 91.0      Germany\n",
              "2   Raikkonen                 26.0      Finland\n",
              "3      Alonso                 32.0        Spain\n",
              "4      Vettel                 53.0      Germany\n",
              "5       Sainz                  2.0        Spain\n",
              "6    Hakkinen                 20.0      Finland\n",
              "7       Senna                 41.0       Brazil\n",
              "8  Verstappen                 54.0  Netherlands\n",
              "9  Fittipaldi                 14.0       Brazil"
            ]
          },
          "execution_count": 94,
          "metadata": {},
          "output_type": "execute_result"
        }
      ],
      "source": [
        "f1 = f1.dropna()\n",
        "f1"
      ]
    },
    {
      "cell_type": "markdown",
      "metadata": {
        "id": "cnFIxjED5QzI"
      },
      "source": [
        "b) Ahora queda una pregunta... ¿Hace falta que el número de victorias tenga decimales? No se puede ganar media carrera... Como es un poco difícil de mirar, podríamos convertirlo a enteros.\n",
        "\n",
        "De esta manera podemos ilustrar una gran comodidad que ofrece pandas: cambiar de tipo una columna entera (en el futuro, es posible que os encontréis columnas que vienen en un formato que no es, por ejemplo números en forma de string)."
      ]
    },
    {
      "cell_type": "code",
      "execution_count": 95,
      "metadata": {
        "colab": {
          "base_uri": "https://localhost:8080/",
          "height": 499
        },
        "id": "isTy3JfV5hwC",
        "outputId": "2d0646d6-414b-47e5-f38a-76f201ff35e2"
      },
      "outputs": [
        {
          "name": "stderr",
          "output_type": "stream",
          "text": [
            "C:\\Users\\Usuario\\AppData\\Local\\Temp\\ipykernel_20232\\3130284640.py:3: SettingWithCopyWarning: \n",
            "A value is trying to be set on a copy of a slice from a DataFrame.\n",
            "Try using .loc[row_indexer,col_indexer] = value instead\n",
            "\n",
            "See the caveats in the documentation: https://pandas.pydata.org/pandas-docs/stable/user_guide/indexing.html#returning-a-view-versus-a-copy\n",
            "  f1['Number of Victories'] = f1['Number of Victories'].astype(int)\n"
          ]
        },
        {
          "data": {
            "text/html": [
              "<div>\n",
              "<style scoped>\n",
              "    .dataframe tbody tr th:only-of-type {\n",
              "        vertical-align: middle;\n",
              "    }\n",
              "\n",
              "    .dataframe tbody tr th {\n",
              "        vertical-align: top;\n",
              "    }\n",
              "\n",
              "    .dataframe thead th {\n",
              "        text-align: right;\n",
              "    }\n",
              "</style>\n",
              "<table border=\"1\" class=\"dataframe\">\n",
              "  <thead>\n",
              "    <tr style=\"text-align: right;\">\n",
              "      <th></th>\n",
              "      <th>Driver Name</th>\n",
              "      <th>Number of Victories</th>\n",
              "      <th>Country</th>\n",
              "    </tr>\n",
              "  </thead>\n",
              "  <tbody>\n",
              "    <tr>\n",
              "      <th>0</th>\n",
              "      <td>Hamilton</td>\n",
              "      <td>103</td>\n",
              "      <td>UK</td>\n",
              "    </tr>\n",
              "    <tr>\n",
              "      <th>1</th>\n",
              "      <td>Schumacher</td>\n",
              "      <td>91</td>\n",
              "      <td>Germany</td>\n",
              "    </tr>\n",
              "    <tr>\n",
              "      <th>2</th>\n",
              "      <td>Raikkonen</td>\n",
              "      <td>26</td>\n",
              "      <td>Finland</td>\n",
              "    </tr>\n",
              "    <tr>\n",
              "      <th>3</th>\n",
              "      <td>Alonso</td>\n",
              "      <td>32</td>\n",
              "      <td>Spain</td>\n",
              "    </tr>\n",
              "    <tr>\n",
              "      <th>4</th>\n",
              "      <td>Vettel</td>\n",
              "      <td>53</td>\n",
              "      <td>Germany</td>\n",
              "    </tr>\n",
              "    <tr>\n",
              "      <th>5</th>\n",
              "      <td>Sainz</td>\n",
              "      <td>2</td>\n",
              "      <td>Spain</td>\n",
              "    </tr>\n",
              "    <tr>\n",
              "      <th>6</th>\n",
              "      <td>Hakkinen</td>\n",
              "      <td>20</td>\n",
              "      <td>Finland</td>\n",
              "    </tr>\n",
              "    <tr>\n",
              "      <th>7</th>\n",
              "      <td>Senna</td>\n",
              "      <td>41</td>\n",
              "      <td>Brazil</td>\n",
              "    </tr>\n",
              "    <tr>\n",
              "      <th>8</th>\n",
              "      <td>Verstappen</td>\n",
              "      <td>54</td>\n",
              "      <td>Netherlands</td>\n",
              "    </tr>\n",
              "    <tr>\n",
              "      <th>9</th>\n",
              "      <td>Fittipaldi</td>\n",
              "      <td>14</td>\n",
              "      <td>Brazil</td>\n",
              "    </tr>\n",
              "  </tbody>\n",
              "</table>\n",
              "</div>"
            ],
            "text/plain": [
              "  Driver Name  Number of Victories      Country\n",
              "0    Hamilton                  103           UK\n",
              "1  Schumacher                   91      Germany\n",
              "2   Raikkonen                   26      Finland\n",
              "3      Alonso                   32        Spain\n",
              "4      Vettel                   53      Germany\n",
              "5       Sainz                    2        Spain\n",
              "6    Hakkinen                   20      Finland\n",
              "7       Senna                   41       Brazil\n",
              "8  Verstappen                   54  Netherlands\n",
              "9  Fittipaldi                   14       Brazil"
            ]
          },
          "execution_count": 95,
          "metadata": {},
          "output_type": "execute_result"
        }
      ],
      "source": [
        "# Este os lo damos hecho como ejemplo\n",
        "\n",
        "f1['Number of Victories'] = f1['Number of Victories'].astype(int)\n",
        "\n",
        "f1"
      ]
    },
    {
      "cell_type": "markdown",
      "metadata": {
        "id": "JMG-SgHq60JS"
      },
      "source": [
        "¡Ya está! Nuestro dataframe es legible y podemos trabajar con él porque no contiene valores nulos."
      ]
    }
  ],
  "metadata": {
    "colab": {
      "collapsed_sections": [
        "iUUKhLecq5gc"
      ],
      "provenance": []
    },
    "kernelspec": {
      "display_name": "Python 3.10.5 64-bit",
      "language": "python",
      "name": "python3"
    },
    "language_info": {
      "codemirror_mode": {
        "name": "ipython",
        "version": 3
      },
      "file_extension": ".py",
      "mimetype": "text/x-python",
      "name": "python",
      "nbconvert_exporter": "python",
      "pygments_lexer": "ipython3",
      "version": "3.10.5"
    },
    "vscode": {
      "interpreter": {
        "hash": "369f2c481f4da34e4445cda3fffd2e751bd1c4d706f27375911949ba6bb62e1c"
      }
    }
  },
  "nbformat": 4,
  "nbformat_minor": 0
}
